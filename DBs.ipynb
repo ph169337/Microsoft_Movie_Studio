{
 "metadata": {
  "language_info": {
   "codemirror_mode": {
    "name": "ipython",
    "version": 3
   },
   "file_extension": ".py",
   "mimetype": "text/x-python",
   "name": "python",
   "nbconvert_exporter": "python",
   "pygments_lexer": "ipython3",
   "version": "3.8.3-final"
  },
  "orig_nbformat": 2,
  "kernelspec": {
   "name": "Python 3.8.3 64-bit ('base': conda)",
   "display_name": "Python 3.8.3 64-bit ('base': conda)",
   "metadata": {
    "interpreter": {
     "hash": "8a4dba99b337f7b7c56f3257436139b377f4b22d5009ee8ecea169cfe4d2a37e"
    }
   }
  }
 },
 "nbformat": 4,
 "nbformat_minor": 2,
 "cells": [
  {
   "cell_type": "code",
   "execution_count": 9,
   "metadata": {},
   "outputs": [],
   "source": [
    "import pandas as pd"
   ]
  },
  {
   "cell_type": "code",
   "execution_count": 10,
   "metadata": {},
   "outputs": [],
   "source": [
    "mjgross = pd.read_csv('D:/Flatiron/Project/Zips/bom.movie_gross.csv/bom.movie_gross.csv')\n",
    "imdbname = pd.read_csv('D:/Flatiron/Project/Zips/imdb.name.basics.csv/name.basics.csv')\n",
    "imdbtitle = pd.read_csv('D:/Flatiron/Project/Zips/imdb.title.akas.csv/title.akas.csv')\n",
    "imdbtitle2 = pd.read_csv('D:/Flatiron/Project/Zips/imdb.title.basics.csv/title.basics.csv')\n",
    "imdbcrew = pd.read_csv('D:/Flatiron/Project/Zips/imdb.title.crew.csv/title.crew.csv')\n",
    "imdbprinc = pd.read_csv('D:/Flatiron/Project/Zips/imdb.title.principals.csv/title.principals.csv')\n",
    "imdbrate = pd.read_csv('D:/Flatiron/Project/Zips/imdb.title.ratings.csv/title.ratings.csv')\n",
    "rtinfo = pd.read_csv('D:/Flatiron/Project/Zips/rt.movie_info.tsv/rt.movie_info.tsv', delimiter='\\t')\n",
    "rtreviews = pd.read_csv('D:/Flatiron/Project/Zips/rt.reviews.tsv/rt.reviews.tsv', sep=None)\n",
    "tmdbmovies = pd.read_csv('D:/Flatiron/Project/Zips/tmdb.movies.csv/tmdb.movies.csv')\n",
    "tnbudgets = pd.read_csv('D:/Flatiron/Project/Zips/tn.movie_budgets.csv/tn.movie_budgets.csv')"
   ]
  },
  {
   "cell_type": "code",
   "execution_count": 11,
   "metadata": {},
   "outputs": [],
   "source": [
    "# joined imdbcrew and imdbtitle2\n",
    "imdbcrewtitle2 = imdbtitle2.join(imdbcrew.set_index('tconst'), on='tconst')\n"
   ]
  },
  {
   "cell_type": "code",
   "execution_count": 12,
   "metadata": {},
   "outputs": [],
   "source": [
    "#Editing, dropping mostly empty or useless columns\n",
    "imdbname.drop(['birth_year','death_year'], axis=1, inplace=True)\n",
    "imdbtitle.drop(['attributes','language'], axis=1, inplace=True)\n",
    "imdbprinc.drop(['job','characters'], axis=1, inplace=True)\n",
    "rtinfo.drop(['synopsis','theater_date','dvd_date','studio','currency'], axis=1, inplace=True)"
   ]
  },
  {
   "cell_type": "code",
   "execution_count": 13,
   "metadata": {},
   "outputs": [
    {
     "output_type": "stream",
     "name": "stdout",
     "text": [
      "\n",
      " imdbname \n",
      "\n",
      "606648\n",
      "nconst                    0\n",
      "primary_name              0\n",
      "primary_profession    51340\n",
      "known_for_titles      30204\n",
      "dtype: int64\n",
      "\n",
      " imdbtitle \n",
      "\n",
      "331703\n",
      "title_id                  0\n",
      "ordering                  0\n",
      "title                     0\n",
      "region                53293\n",
      "types                163256\n",
      "is_original_title        25\n",
      "dtype: int64\n",
      "\n",
      " imdbcrewtitle2 \n",
      "\n",
      "146144\n",
      "tconst                 0\n",
      "primary_title          0\n",
      "original_title        21\n",
      "start_year             0\n",
      "runtime_minutes    31739\n",
      "genres              5408\n",
      "directors           5727\n",
      "writers            35883\n",
      "dtype: int64\n",
      "\n",
      " imdbprinc \n",
      "\n",
      "1028186\n",
      "tconst             0\n",
      "ordering           0\n",
      "nconst             0\n",
      "category           0\n",
      "characters    634826\n",
      "dtype: int64\n",
      "\n",
      " imdbrate \n",
      "\n",
      "73856\n",
      "tconst           0\n",
      "averagerating    0\n",
      "numvotes         0\n",
      "dtype: int64\n",
      "\n",
      " rtinfo \n",
      "\n",
      "1560\n",
      "id               0\n",
      "rating           3\n",
      "genre            8\n",
      "director       199\n",
      "writer         449\n",
      "box_office    1220\n",
      "runtime         30\n",
      "dtype: int64\n",
      "\n",
      " rtreviews \n",
      "\n",
      "54432\n",
      "id                0\n",
      "review         5563\n",
      "rating        13517\n",
      "fresh             0\n",
      "critic         2722\n",
      "top_critic        0\n",
      "publisher       309\n",
      "date              0\n",
      "dtype: int64\n",
      "\n",
      " tmdbmovies \n",
      "\n",
      "26517\n",
      "Unnamed: 0           0\n",
      "genre_ids            0\n",
      "id                   0\n",
      "original_language    0\n",
      "original_title       0\n",
      "popularity           0\n",
      "release_date         0\n",
      "title                0\n",
      "vote_average         0\n",
      "vote_count           0\n",
      "dtype: int64\n",
      "\n",
      " tnbudgets \n",
      "\n",
      "5782\n",
      "id                   0\n",
      "release_date         0\n",
      "movie                0\n",
      "production_budget    0\n",
      "domestic_gross       0\n",
      "worldwide_gross      0\n",
      "dtype: int64\n"
     ]
    }
   ],
   "source": [
    "#Just to have a handy reference point\n",
    "print('\\n imdbname \\n'); print(len(imdbname)); print(imdbname.isna().sum())\n",
    "print('\\n imdbtitle \\n'); print(len(imdbtitle)); print(imdbtitle.isna().sum())\n",
    "print('\\n imdbcrewtitle2 \\n'); print(len(imdbcrewtitle2)); print(imdbcrewtitle2.isna().sum())\n",
    "print('\\n imdbprinc \\n'); print(len(imdbprinc)); print(imdbprinc.isna().sum())\n",
    "print('\\n imdbrate \\n'); print(len(imdbrate)); print(imdbrate.isna().sum())\n",
    "print('\\n rtinfo \\n'); print(len(rtinfo)); print(rtinfo.isna().sum())\n",
    "print('\\n rtreviews \\n'); print(len(rtreviews)); print(rtreviews.isna().sum())\n",
    "print('\\n tmdbmovies \\n'); print(len(tmdbmovies)); print(tmdbmovies.isna().sum())\n",
    "print('\\n tnbudgets \\n'); print(len(tnbudgets)); print(tnbudgets.isna().sum())"
   ]
  },
  {
   "cell_type": "code",
   "execution_count": null,
   "metadata": {},
   "outputs": [],
   "source": [
    "#in progress DON'T RUN\n",
    "def splitmult(df, column):\n",
    "    for i, item in enumerate(df[column]):\n",
    "        each = item.split(sep=',')\n",
    "        item = each[0]\n",
    "        for e in range(1, len(each)):\n",
    "            new_rows = {}\n",
    "            new_rows.append(str(df.iloc[i].loc[column]) + ' : ' + )"
   ]
  },
  {
   "cell_type": "code",
   "execution_count": 14,
   "metadata": {},
   "outputs": [
    {
     "output_type": "execute_result",
     "data": {
      "text/plain": [
       "6"
      ]
     },
     "metadata": {},
     "execution_count": 14
    }
   ],
   "source": [
    "        for e in each:\n",
    "            new_rows = {}\n",
    "            for i2 in range(len(df.columns)):\n",
    "                new_rows.append(str(df.columns[i2]) + ' : ' + str(df.loc[column][i]))"
   ]
  },
  {
   "cell_type": "code",
   "execution_count": 25,
   "metadata": {},
   "outputs": [
    {
     "output_type": "execute_result",
     "data": {
      "text/plain": [
       "'Joseph Bauer'"
      ]
     },
     "metadata": {},
     "execution_count": 25
    }
   ],
   "source": [
    "imdbname['primary_name'][1]"
   ]
  },
  {
   "cell_type": "code",
   "execution_count": null,
   "metadata": {},
   "outputs": [],
   "source": [
    "for name in "
   ]
  },
  {
   "cell_type": "code",
   "execution_count": 32,
   "metadata": {},
   "outputs": [
    {
     "output_type": "execute_result",
     "data": {
      "text/plain": [
       "            tconst  ordering      nconst  category            characters\n",
       "0        tt0111414         1   nm0246005     actor           [\"The Man\"]\n",
       "1        tt0111414         2   nm0398271  director                   NaN\n",
       "2        tt0111414         3   nm3739909  producer                   NaN\n",
       "3        tt0323808        10   nm0059247    editor                   NaN\n",
       "4        tt0323808         1   nm3579312   actress      [\"Beth Boothby\"]\n",
       "...            ...       ...         ...       ...                   ...\n",
       "1028181  tt9692684         1   nm0186469     actor  [\"Ebenezer Scrooge\"]\n",
       "1028182  tt9692684         2   nm4929530      self   [\"Herself\",\"Regan\"]\n",
       "1028183  tt9692684         3  nm10441594  director                   NaN\n",
       "1028184  tt9692684         4   nm6009913    writer                   NaN\n",
       "1028185  tt9692684         5  nm10441595  producer                   NaN\n",
       "\n",
       "[1028186 rows x 5 columns]"
      ],
      "text/html": "<div>\n<style scoped>\n    .dataframe tbody tr th:only-of-type {\n        vertical-align: middle;\n    }\n\n    .dataframe tbody tr th {\n        vertical-align: top;\n    }\n\n    .dataframe thead th {\n        text-align: right;\n    }\n</style>\n<table border=\"1\" class=\"dataframe\">\n  <thead>\n    <tr style=\"text-align: right;\">\n      <th></th>\n      <th>tconst</th>\n      <th>ordering</th>\n      <th>nconst</th>\n      <th>category</th>\n      <th>characters</th>\n    </tr>\n  </thead>\n  <tbody>\n    <tr>\n      <th>0</th>\n      <td>tt0111414</td>\n      <td>1</td>\n      <td>nm0246005</td>\n      <td>actor</td>\n      <td>[\"The Man\"]</td>\n    </tr>\n    <tr>\n      <th>1</th>\n      <td>tt0111414</td>\n      <td>2</td>\n      <td>nm0398271</td>\n      <td>director</td>\n      <td>NaN</td>\n    </tr>\n    <tr>\n      <th>2</th>\n      <td>tt0111414</td>\n      <td>3</td>\n      <td>nm3739909</td>\n      <td>producer</td>\n      <td>NaN</td>\n    </tr>\n    <tr>\n      <th>3</th>\n      <td>tt0323808</td>\n      <td>10</td>\n      <td>nm0059247</td>\n      <td>editor</td>\n      <td>NaN</td>\n    </tr>\n    <tr>\n      <th>4</th>\n      <td>tt0323808</td>\n      <td>1</td>\n      <td>nm3579312</td>\n      <td>actress</td>\n      <td>[\"Beth Boothby\"]</td>\n    </tr>\n    <tr>\n      <th>...</th>\n      <td>...</td>\n      <td>...</td>\n      <td>...</td>\n      <td>...</td>\n      <td>...</td>\n    </tr>\n    <tr>\n      <th>1028181</th>\n      <td>tt9692684</td>\n      <td>1</td>\n      <td>nm0186469</td>\n      <td>actor</td>\n      <td>[\"Ebenezer Scrooge\"]</td>\n    </tr>\n    <tr>\n      <th>1028182</th>\n      <td>tt9692684</td>\n      <td>2</td>\n      <td>nm4929530</td>\n      <td>self</td>\n      <td>[\"Herself\",\"Regan\"]</td>\n    </tr>\n    <tr>\n      <th>1028183</th>\n      <td>tt9692684</td>\n      <td>3</td>\n      <td>nm10441594</td>\n      <td>director</td>\n      <td>NaN</td>\n    </tr>\n    <tr>\n      <th>1028184</th>\n      <td>tt9692684</td>\n      <td>4</td>\n      <td>nm6009913</td>\n      <td>writer</td>\n      <td>NaN</td>\n    </tr>\n    <tr>\n      <th>1028185</th>\n      <td>tt9692684</td>\n      <td>5</td>\n      <td>nm10441595</td>\n      <td>producer</td>\n      <td>NaN</td>\n    </tr>\n  </tbody>\n</table>\n<p>1028186 rows × 5 columns</p>\n</div>"
     },
     "metadata": {},
     "execution_count": 32
    }
   ],
   "source": [
    "imdbprinc"
   ]
  },
  {
   "cell_type": "code",
   "execution_count": 33,
   "metadata": {},
   "outputs": [
    {
     "output_type": "execute_result",
     "data": {
      "text/plain": [
       "           nconst         primary_name  \\\n",
       "0       nm0061671    Mary Ellen Bauder   \n",
       "1       nm0061865         Joseph Bauer   \n",
       "2       nm0062070           Bruce Baum   \n",
       "3       nm0062195         Axel Baumann   \n",
       "4       nm0062798          Pete Baxter   \n",
       "...           ...                  ...   \n",
       "606643  nm9990381         Susan Grobes   \n",
       "606644  nm9990690          Joo Yeon So   \n",
       "606645  nm9991320       Madeline Smith   \n",
       "606646  nm9991786  Michelle Modigliani   \n",
       "606647  nm9993380       Pegasus Envoyé   \n",
       "\n",
       "                                      primary_profession  \\\n",
       "0              miscellaneous,production_manager,producer   \n",
       "1             composer,music_department,sound_department   \n",
       "2                             miscellaneous,actor,writer   \n",
       "3       camera_department,cinematographer,art_department   \n",
       "4       production_designer,art_department,set_decorator   \n",
       "...                                                  ...   \n",
       "606643                                           actress   \n",
       "606644                                           actress   \n",
       "606645                                           actress   \n",
       "606646                                          producer   \n",
       "606647                             director,actor,writer   \n",
       "\n",
       "                               known_for_titles  \n",
       "0       tt0837562,tt2398241,tt0844471,tt0118553  \n",
       "1       tt0896534,tt6791238,tt0287072,tt1682940  \n",
       "2       tt1470654,tt0363631,tt0104030,tt0102898  \n",
       "3       tt0114371,tt2004304,tt1618448,tt1224387  \n",
       "4       tt0452644,tt0452692,tt3458030,tt2178256  \n",
       "...                                         ...  \n",
       "606643                                      NaN  \n",
       "606644                      tt9090932,tt8737130  \n",
       "606645                      tt8734436,tt9615610  \n",
       "606646                                      NaN  \n",
       "606647                                tt8743182  \n",
       "\n",
       "[606648 rows x 4 columns]"
      ],
      "text/html": "<div>\n<style scoped>\n    .dataframe tbody tr th:only-of-type {\n        vertical-align: middle;\n    }\n\n    .dataframe tbody tr th {\n        vertical-align: top;\n    }\n\n    .dataframe thead th {\n        text-align: right;\n    }\n</style>\n<table border=\"1\" class=\"dataframe\">\n  <thead>\n    <tr style=\"text-align: right;\">\n      <th></th>\n      <th>nconst</th>\n      <th>primary_name</th>\n      <th>primary_profession</th>\n      <th>known_for_titles</th>\n    </tr>\n  </thead>\n  <tbody>\n    <tr>\n      <th>0</th>\n      <td>nm0061671</td>\n      <td>Mary Ellen Bauder</td>\n      <td>miscellaneous,production_manager,producer</td>\n      <td>tt0837562,tt2398241,tt0844471,tt0118553</td>\n    </tr>\n    <tr>\n      <th>1</th>\n      <td>nm0061865</td>\n      <td>Joseph Bauer</td>\n      <td>composer,music_department,sound_department</td>\n      <td>tt0896534,tt6791238,tt0287072,tt1682940</td>\n    </tr>\n    <tr>\n      <th>2</th>\n      <td>nm0062070</td>\n      <td>Bruce Baum</td>\n      <td>miscellaneous,actor,writer</td>\n      <td>tt1470654,tt0363631,tt0104030,tt0102898</td>\n    </tr>\n    <tr>\n      <th>3</th>\n      <td>nm0062195</td>\n      <td>Axel Baumann</td>\n      <td>camera_department,cinematographer,art_department</td>\n      <td>tt0114371,tt2004304,tt1618448,tt1224387</td>\n    </tr>\n    <tr>\n      <th>4</th>\n      <td>nm0062798</td>\n      <td>Pete Baxter</td>\n      <td>production_designer,art_department,set_decorator</td>\n      <td>tt0452644,tt0452692,tt3458030,tt2178256</td>\n    </tr>\n    <tr>\n      <th>...</th>\n      <td>...</td>\n      <td>...</td>\n      <td>...</td>\n      <td>...</td>\n    </tr>\n    <tr>\n      <th>606643</th>\n      <td>nm9990381</td>\n      <td>Susan Grobes</td>\n      <td>actress</td>\n      <td>NaN</td>\n    </tr>\n    <tr>\n      <th>606644</th>\n      <td>nm9990690</td>\n      <td>Joo Yeon So</td>\n      <td>actress</td>\n      <td>tt9090932,tt8737130</td>\n    </tr>\n    <tr>\n      <th>606645</th>\n      <td>nm9991320</td>\n      <td>Madeline Smith</td>\n      <td>actress</td>\n      <td>tt8734436,tt9615610</td>\n    </tr>\n    <tr>\n      <th>606646</th>\n      <td>nm9991786</td>\n      <td>Michelle Modigliani</td>\n      <td>producer</td>\n      <td>NaN</td>\n    </tr>\n    <tr>\n      <th>606647</th>\n      <td>nm9993380</td>\n      <td>Pegasus Envoyé</td>\n      <td>director,actor,writer</td>\n      <td>tt8743182</td>\n    </tr>\n  </tbody>\n</table>\n<p>606648 rows × 4 columns</p>\n</div>"
     },
     "metadata": {},
     "execution_count": 33
    }
   ],
   "source": [
    "imdbname"
   ]
  },
  {
   "cell_type": "code",
   "execution_count": 34,
   "metadata": {},
   "outputs": [
    {
     "output_type": "execute_result",
     "data": {
      "text/plain": [
       "         title_id  ordering                                    title region  \\\n",
       "0       tt0369610        10                            Джурасик свят     BG   \n",
       "1       tt0369610        11                        Jurashikku warudo     JP   \n",
       "2       tt0369610        12  Jurassic World: O Mundo dos Dinossauros     BR   \n",
       "3       tt0369610        13                  O Mundo dos Dinossauros     BR   \n",
       "4       tt0369610        14                           Jurassic World     FR   \n",
       "...           ...       ...                                      ...    ...   \n",
       "331698  tt9827784         2                       Sayonara kuchibiru    NaN   \n",
       "331699  tt9827784         3                            Farewell Song    XWW   \n",
       "331700  tt9880178         1                              La atención    NaN   \n",
       "331701  tt9880178         2                              La atención     ES   \n",
       "331702  tt9880178         3                            The Attention    XWW   \n",
       "\n",
       "              types  is_original_title  \n",
       "0               NaN                0.0  \n",
       "1       imdbDisplay                0.0  \n",
       "2       imdbDisplay                0.0  \n",
       "3               NaN                0.0  \n",
       "4       imdbDisplay                0.0  \n",
       "...             ...                ...  \n",
       "331698     original                1.0  \n",
       "331699  imdbDisplay                0.0  \n",
       "331700     original                1.0  \n",
       "331701          NaN                0.0  \n",
       "331702  imdbDisplay                0.0  \n",
       "\n",
       "[331703 rows x 6 columns]"
      ],
      "text/html": "<div>\n<style scoped>\n    .dataframe tbody tr th:only-of-type {\n        vertical-align: middle;\n    }\n\n    .dataframe tbody tr th {\n        vertical-align: top;\n    }\n\n    .dataframe thead th {\n        text-align: right;\n    }\n</style>\n<table border=\"1\" class=\"dataframe\">\n  <thead>\n    <tr style=\"text-align: right;\">\n      <th></th>\n      <th>title_id</th>\n      <th>ordering</th>\n      <th>title</th>\n      <th>region</th>\n      <th>types</th>\n      <th>is_original_title</th>\n    </tr>\n  </thead>\n  <tbody>\n    <tr>\n      <th>0</th>\n      <td>tt0369610</td>\n      <td>10</td>\n      <td>Джурасик свят</td>\n      <td>BG</td>\n      <td>NaN</td>\n      <td>0.0</td>\n    </tr>\n    <tr>\n      <th>1</th>\n      <td>tt0369610</td>\n      <td>11</td>\n      <td>Jurashikku warudo</td>\n      <td>JP</td>\n      <td>imdbDisplay</td>\n      <td>0.0</td>\n    </tr>\n    <tr>\n      <th>2</th>\n      <td>tt0369610</td>\n      <td>12</td>\n      <td>Jurassic World: O Mundo dos Dinossauros</td>\n      <td>BR</td>\n      <td>imdbDisplay</td>\n      <td>0.0</td>\n    </tr>\n    <tr>\n      <th>3</th>\n      <td>tt0369610</td>\n      <td>13</td>\n      <td>O Mundo dos Dinossauros</td>\n      <td>BR</td>\n      <td>NaN</td>\n      <td>0.0</td>\n    </tr>\n    <tr>\n      <th>4</th>\n      <td>tt0369610</td>\n      <td>14</td>\n      <td>Jurassic World</td>\n      <td>FR</td>\n      <td>imdbDisplay</td>\n      <td>0.0</td>\n    </tr>\n    <tr>\n      <th>...</th>\n      <td>...</td>\n      <td>...</td>\n      <td>...</td>\n      <td>...</td>\n      <td>...</td>\n      <td>...</td>\n    </tr>\n    <tr>\n      <th>331698</th>\n      <td>tt9827784</td>\n      <td>2</td>\n      <td>Sayonara kuchibiru</td>\n      <td>NaN</td>\n      <td>original</td>\n      <td>1.0</td>\n    </tr>\n    <tr>\n      <th>331699</th>\n      <td>tt9827784</td>\n      <td>3</td>\n      <td>Farewell Song</td>\n      <td>XWW</td>\n      <td>imdbDisplay</td>\n      <td>0.0</td>\n    </tr>\n    <tr>\n      <th>331700</th>\n      <td>tt9880178</td>\n      <td>1</td>\n      <td>La atención</td>\n      <td>NaN</td>\n      <td>original</td>\n      <td>1.0</td>\n    </tr>\n    <tr>\n      <th>331701</th>\n      <td>tt9880178</td>\n      <td>2</td>\n      <td>La atención</td>\n      <td>ES</td>\n      <td>NaN</td>\n      <td>0.0</td>\n    </tr>\n    <tr>\n      <th>331702</th>\n      <td>tt9880178</td>\n      <td>3</td>\n      <td>The Attention</td>\n      <td>XWW</td>\n      <td>imdbDisplay</td>\n      <td>0.0</td>\n    </tr>\n  </tbody>\n</table>\n<p>331703 rows × 6 columns</p>\n</div>"
     },
     "metadata": {},
     "execution_count": 34
    }
   ],
   "source": [
    "imdbtitle"
   ]
  },
  {
   "cell_type": "code",
   "execution_count": 37,
   "metadata": {},
   "outputs": [],
   "source": [
    "# idea: make dictionary, keys are nm#####s, values are names. use replace function"
   ]
  },
  {
   "cell_type": "code",
   "execution_count": 57,
   "metadata": {},
   "outputs": [],
   "source": [
    "#dictionary to replace names\n",
    "names = []\n",
    "for n in imdbname['nconst']:\n",
    "    names.append(n)\n",
    "len(names)\n",
    "real_names = []\n",
    "for n in imdbname['primary_name']:\n",
    "    real_names.append(n)\n",
    "len(real_names)\n",
    "name_dict = dict(zip(names, real_names))"
   ]
  },
  {
   "cell_type": "code",
   "execution_count": 83,
   "metadata": {},
   "outputs": [
    {
     "output_type": "error",
     "ename": "KeyboardInterrupt",
     "evalue": "",
     "traceback": [
      "\u001b[1;31m---------------------------------------------------------------------------\u001b[0m",
      "\u001b[1;31mKeyboardInterrupt\u001b[0m                         Traceback (most recent call last)",
      "\u001b[1;32m<ipython-input-83-e2bc44ce59a0>\u001b[0m in \u001b[0;36m<module>\u001b[1;34m\u001b[0m\n\u001b[0;32m     12\u001b[0m     \u001b[1;31m#     if item in names:\u001b[0m\u001b[1;33m\u001b[0m\u001b[1;33m\u001b[0m\u001b[1;33m\u001b[0m\u001b[0m\n\u001b[0;32m     13\u001b[0m     \u001b[1;31m#         imdbprinc.replace(item, name_dict[item])\u001b[0m\u001b[1;33m\u001b[0m\u001b[1;33m\u001b[0m\u001b[1;33m\u001b[0m\u001b[0m\n\u001b[1;32m---> 14\u001b[1;33m \u001b[0mnewplc\u001b[0m \u001b[1;33m=\u001b[0m \u001b[0mimdbprinc\u001b[0m\u001b[1;33m.\u001b[0m\u001b[0mnconst\u001b[0m\u001b[1;33m.\u001b[0m\u001b[0mapply\u001b[0m\u001b[1;33m(\u001b[0m\u001b[0mimdbprinc\u001b[0m\u001b[1;33m.\u001b[0m\u001b[0mreplace\u001b[0m\u001b[1;33m(\u001b[0m\u001b[0mname_dict\u001b[0m\u001b[1;33m)\u001b[0m\u001b[1;33m)\u001b[0m\u001b[1;33m\u001b[0m\u001b[1;33m\u001b[0m\u001b[0m\n\u001b[0m\u001b[0;32m     15\u001b[0m \u001b[0mnewplc\u001b[0m\u001b[1;33m\u001b[0m\u001b[1;33m\u001b[0m\u001b[0m\n",
      "\u001b[1;32m~\\anaconda3\\lib\\site-packages\\pandas\\core\\frame.py\u001b[0m in \u001b[0;36mreplace\u001b[1;34m(self, to_replace, value, inplace, limit, regex, method)\u001b[0m\n\u001b[0;32m   4164\u001b[0m         \u001b[0mmethod\u001b[0m\u001b[1;33m=\u001b[0m\u001b[1;34m\"pad\"\u001b[0m\u001b[1;33m,\u001b[0m\u001b[1;33m\u001b[0m\u001b[1;33m\u001b[0m\u001b[0m\n\u001b[0;32m   4165\u001b[0m     ):\n\u001b[1;32m-> 4166\u001b[1;33m         return super().replace(\n\u001b[0m\u001b[0;32m   4167\u001b[0m             \u001b[0mto_replace\u001b[0m\u001b[1;33m=\u001b[0m\u001b[0mto_replace\u001b[0m\u001b[1;33m,\u001b[0m\u001b[1;33m\u001b[0m\u001b[1;33m\u001b[0m\u001b[0m\n\u001b[0;32m   4168\u001b[0m             \u001b[0mvalue\u001b[0m\u001b[1;33m=\u001b[0m\u001b[0mvalue\u001b[0m\u001b[1;33m,\u001b[0m\u001b[1;33m\u001b[0m\u001b[1;33m\u001b[0m\u001b[0m\n",
      "\u001b[1;32m~\\anaconda3\\lib\\site-packages\\pandas\\core\\generic.py\u001b[0m in \u001b[0;36mreplace\u001b[1;34m(self, to_replace, value, inplace, limit, regex, method)\u001b[0m\n\u001b[0;32m   6643\u001b[0m                 \u001b[0mto_replace\u001b[0m\u001b[1;33m,\u001b[0m \u001b[0mvalue\u001b[0m \u001b[1;33m=\u001b[0m \u001b[0mkeys\u001b[0m\u001b[1;33m,\u001b[0m \u001b[0mvalues\u001b[0m\u001b[1;33m\u001b[0m\u001b[1;33m\u001b[0m\u001b[0m\n\u001b[0;32m   6644\u001b[0m \u001b[1;33m\u001b[0m\u001b[0m\n\u001b[1;32m-> 6645\u001b[1;33m             return self.replace(\n\u001b[0m\u001b[0;32m   6646\u001b[0m                 \u001b[0mto_replace\u001b[0m\u001b[1;33m,\u001b[0m \u001b[0mvalue\u001b[0m\u001b[1;33m,\u001b[0m \u001b[0minplace\u001b[0m\u001b[1;33m=\u001b[0m\u001b[0minplace\u001b[0m\u001b[1;33m,\u001b[0m \u001b[0mlimit\u001b[0m\u001b[1;33m=\u001b[0m\u001b[0mlimit\u001b[0m\u001b[1;33m,\u001b[0m \u001b[0mregex\u001b[0m\u001b[1;33m=\u001b[0m\u001b[0mregex\u001b[0m\u001b[1;33m\u001b[0m\u001b[1;33m\u001b[0m\u001b[0m\n\u001b[0;32m   6647\u001b[0m             )\n",
      "\u001b[1;32m~\\anaconda3\\lib\\site-packages\\pandas\\core\\frame.py\u001b[0m in \u001b[0;36mreplace\u001b[1;34m(self, to_replace, value, inplace, limit, regex, method)\u001b[0m\n\u001b[0;32m   4164\u001b[0m         \u001b[0mmethod\u001b[0m\u001b[1;33m=\u001b[0m\u001b[1;34m\"pad\"\u001b[0m\u001b[1;33m,\u001b[0m\u001b[1;33m\u001b[0m\u001b[1;33m\u001b[0m\u001b[0m\n\u001b[0;32m   4165\u001b[0m     ):\n\u001b[1;32m-> 4166\u001b[1;33m         return super().replace(\n\u001b[0m\u001b[0;32m   4167\u001b[0m             \u001b[0mto_replace\u001b[0m\u001b[1;33m=\u001b[0m\u001b[0mto_replace\u001b[0m\u001b[1;33m,\u001b[0m\u001b[1;33m\u001b[0m\u001b[1;33m\u001b[0m\u001b[0m\n\u001b[0;32m   4168\u001b[0m             \u001b[0mvalue\u001b[0m\u001b[1;33m=\u001b[0m\u001b[0mvalue\u001b[0m\u001b[1;33m,\u001b[0m\u001b[1;33m\u001b[0m\u001b[1;33m\u001b[0m\u001b[0m\n",
      "\u001b[1;32m~\\anaconda3\\lib\\site-packages\\pandas\\core\\generic.py\u001b[0m in \u001b[0;36mreplace\u001b[1;34m(self, to_replace, value, inplace, limit, regex, method)\u001b[0m\n\u001b[0;32m   6693\u001b[0m                         )\n\u001b[0;32m   6694\u001b[0m \u001b[1;33m\u001b[0m\u001b[0m\n\u001b[1;32m-> 6695\u001b[1;33m                     new_data = self._data.replace_list(\n\u001b[0m\u001b[0;32m   6696\u001b[0m                         \u001b[0msrc_list\u001b[0m\u001b[1;33m=\u001b[0m\u001b[0mto_replace\u001b[0m\u001b[1;33m,\u001b[0m\u001b[1;33m\u001b[0m\u001b[1;33m\u001b[0m\u001b[0m\n\u001b[0;32m   6697\u001b[0m                         \u001b[0mdest_list\u001b[0m\u001b[1;33m=\u001b[0m\u001b[0mvalue\u001b[0m\u001b[1;33m,\u001b[0m\u001b[1;33m\u001b[0m\u001b[1;33m\u001b[0m\u001b[0m\n",
      "\u001b[1;32m~\\anaconda3\\lib\\site-packages\\pandas\\core\\internals\\managers.py\u001b[0m in \u001b[0;36mreplace_list\u001b[1;34m(self, src_list, dest_list, inplace, regex)\u001b[0m\n\u001b[0;32m    611\u001b[0m             \u001b[1;32mreturn\u001b[0m \u001b[0m_compare_or_regex_search\u001b[0m\u001b[1;33m(\u001b[0m\u001b[0mvalues\u001b[0m\u001b[1;33m,\u001b[0m \u001b[0ms\u001b[0m\u001b[1;33m,\u001b[0m \u001b[0mregex\u001b[0m\u001b[1;33m)\u001b[0m\u001b[1;33m\u001b[0m\u001b[1;33m\u001b[0m\u001b[0m\n\u001b[0;32m    612\u001b[0m \u001b[1;33m\u001b[0m\u001b[0m\n\u001b[1;32m--> 613\u001b[1;33m         \u001b[0mmasks\u001b[0m \u001b[1;33m=\u001b[0m \u001b[1;33m[\u001b[0m\u001b[0mcomp\u001b[0m\u001b[1;33m(\u001b[0m\u001b[0ms\u001b[0m\u001b[1;33m,\u001b[0m \u001b[0mregex\u001b[0m\u001b[1;33m)\u001b[0m \u001b[1;32mfor\u001b[0m \u001b[0mi\u001b[0m\u001b[1;33m,\u001b[0m \u001b[0ms\u001b[0m \u001b[1;32min\u001b[0m \u001b[0menumerate\u001b[0m\u001b[1;33m(\u001b[0m\u001b[0msrc_list\u001b[0m\u001b[1;33m)\u001b[0m\u001b[1;33m]\u001b[0m\u001b[1;33m\u001b[0m\u001b[1;33m\u001b[0m\u001b[0m\n\u001b[0m\u001b[0;32m    614\u001b[0m \u001b[1;33m\u001b[0m\u001b[0m\n\u001b[0;32m    615\u001b[0m         \u001b[0mresult_blocks\u001b[0m \u001b[1;33m=\u001b[0m \u001b[1;33m[\u001b[0m\u001b[1;33m]\u001b[0m\u001b[1;33m\u001b[0m\u001b[1;33m\u001b[0m\u001b[0m\n",
      "\u001b[1;32m~\\anaconda3\\lib\\site-packages\\pandas\\core\\internals\\managers.py\u001b[0m in \u001b[0;36m<listcomp>\u001b[1;34m(.0)\u001b[0m\n\u001b[0;32m    611\u001b[0m             \u001b[1;32mreturn\u001b[0m \u001b[0m_compare_or_regex_search\u001b[0m\u001b[1;33m(\u001b[0m\u001b[0mvalues\u001b[0m\u001b[1;33m,\u001b[0m \u001b[0ms\u001b[0m\u001b[1;33m,\u001b[0m \u001b[0mregex\u001b[0m\u001b[1;33m)\u001b[0m\u001b[1;33m\u001b[0m\u001b[1;33m\u001b[0m\u001b[0m\n\u001b[0;32m    612\u001b[0m \u001b[1;33m\u001b[0m\u001b[0m\n\u001b[1;32m--> 613\u001b[1;33m         \u001b[0mmasks\u001b[0m \u001b[1;33m=\u001b[0m \u001b[1;33m[\u001b[0m\u001b[0mcomp\u001b[0m\u001b[1;33m(\u001b[0m\u001b[0ms\u001b[0m\u001b[1;33m,\u001b[0m \u001b[0mregex\u001b[0m\u001b[1;33m)\u001b[0m \u001b[1;32mfor\u001b[0m \u001b[0mi\u001b[0m\u001b[1;33m,\u001b[0m \u001b[0ms\u001b[0m \u001b[1;32min\u001b[0m \u001b[0menumerate\u001b[0m\u001b[1;33m(\u001b[0m\u001b[0msrc_list\u001b[0m\u001b[1;33m)\u001b[0m\u001b[1;33m]\u001b[0m\u001b[1;33m\u001b[0m\u001b[1;33m\u001b[0m\u001b[0m\n\u001b[0m\u001b[0;32m    614\u001b[0m \u001b[1;33m\u001b[0m\u001b[0m\n\u001b[0;32m    615\u001b[0m         \u001b[0mresult_blocks\u001b[0m \u001b[1;33m=\u001b[0m \u001b[1;33m[\u001b[0m\u001b[1;33m]\u001b[0m\u001b[1;33m\u001b[0m\u001b[1;33m\u001b[0m\u001b[0m\n",
      "\u001b[1;32m~\\anaconda3\\lib\\site-packages\\pandas\\core\\internals\\managers.py\u001b[0m in \u001b[0;36mcomp\u001b[1;34m(s, regex)\u001b[0m\n\u001b[0;32m    609\u001b[0m                     \u001b[0mmaybe_convert_objects\u001b[0m\u001b[1;33m(\u001b[0m\u001b[0mvalues\u001b[0m\u001b[1;33m)\u001b[0m\u001b[1;33m,\u001b[0m \u001b[0ms\u001b[0m\u001b[1;33m.\u001b[0m\u001b[0masm8\u001b[0m\u001b[1;33m,\u001b[0m \u001b[0mregex\u001b[0m\u001b[1;33m\u001b[0m\u001b[1;33m\u001b[0m\u001b[0m\n\u001b[0;32m    610\u001b[0m                 )\n\u001b[1;32m--> 611\u001b[1;33m             \u001b[1;32mreturn\u001b[0m \u001b[0m_compare_or_regex_search\u001b[0m\u001b[1;33m(\u001b[0m\u001b[0mvalues\u001b[0m\u001b[1;33m,\u001b[0m \u001b[0ms\u001b[0m\u001b[1;33m,\u001b[0m \u001b[0mregex\u001b[0m\u001b[1;33m)\u001b[0m\u001b[1;33m\u001b[0m\u001b[1;33m\u001b[0m\u001b[0m\n\u001b[0m\u001b[0;32m    612\u001b[0m \u001b[1;33m\u001b[0m\u001b[0m\n\u001b[0;32m    613\u001b[0m         \u001b[0mmasks\u001b[0m \u001b[1;33m=\u001b[0m \u001b[1;33m[\u001b[0m\u001b[0mcomp\u001b[0m\u001b[1;33m(\u001b[0m\u001b[0ms\u001b[0m\u001b[1;33m,\u001b[0m \u001b[0mregex\u001b[0m\u001b[1;33m)\u001b[0m \u001b[1;32mfor\u001b[0m \u001b[0mi\u001b[0m\u001b[1;33m,\u001b[0m \u001b[0ms\u001b[0m \u001b[1;32min\u001b[0m \u001b[0menumerate\u001b[0m\u001b[1;33m(\u001b[0m\u001b[0msrc_list\u001b[0m\u001b[1;33m)\u001b[0m\u001b[1;33m]\u001b[0m\u001b[1;33m\u001b[0m\u001b[1;33m\u001b[0m\u001b[0m\n",
      "\u001b[1;32m~\\anaconda3\\lib\\site-packages\\pandas\\core\\internals\\managers.py\u001b[0m in \u001b[0;36m_compare_or_regex_search\u001b[1;34m(a, b, regex)\u001b[0m\n\u001b[0;32m   1922\u001b[0m         \u001b[0mresult\u001b[0m \u001b[1;33m=\u001b[0m \u001b[1;32mFalse\u001b[0m\u001b[1;33m\u001b[0m\u001b[1;33m\u001b[0m\u001b[0m\n\u001b[0;32m   1923\u001b[0m     \u001b[1;32melse\u001b[0m\u001b[1;33m:\u001b[0m\u001b[1;33m\u001b[0m\u001b[1;33m\u001b[0m\u001b[0m\n\u001b[1;32m-> 1924\u001b[1;33m         \u001b[0mresult\u001b[0m \u001b[1;33m=\u001b[0m \u001b[0mop\u001b[0m\u001b[1;33m(\u001b[0m\u001b[0ma\u001b[0m\u001b[1;33m)\u001b[0m\u001b[1;33m\u001b[0m\u001b[1;33m\u001b[0m\u001b[0m\n\u001b[0m\u001b[0;32m   1925\u001b[0m \u001b[1;33m\u001b[0m\u001b[0m\n\u001b[0;32m   1926\u001b[0m     \u001b[1;32mif\u001b[0m \u001b[0mis_scalar\u001b[0m\u001b[1;33m(\u001b[0m\u001b[0mresult\u001b[0m\u001b[1;33m)\u001b[0m \u001b[1;32mand\u001b[0m \u001b[1;33m(\u001b[0m\u001b[0mis_a_array\u001b[0m \u001b[1;32mor\u001b[0m \u001b[0mis_b_array\u001b[0m\u001b[1;33m)\u001b[0m\u001b[1;33m:\u001b[0m\u001b[1;33m\u001b[0m\u001b[1;33m\u001b[0m\u001b[0m\n",
      "\u001b[1;31mKeyboardInterrupt\u001b[0m: "
     ]
    }
   ],
   "source": [
    "# def replcnm():\n",
    "#     for i, item in enumerate(imdbprinc.loc[:,'nconst']):\n",
    "#         if str(item) in names:\n",
    "#             imdbprinc.replace(str(item), name_dict[str(item)])\n",
    "        # try:\n",
    "        #     imdbprinc.iloc[i].loc['nconst'].replace(item, name_dict[item])\n",
    "        # except:\n",
    "        #     continue\n",
    "\n",
    "    #     if item not in names:\n",
    "    #         continue\n",
    "    #     if item in names:\n",
    "    #         imdbprinc.replace(item, name_dict[item])\n",
    "newplc = imdbprinc.nconst.apply(imdbprinc.replace(name_dict))\n",
    "newplc"
   ]
  },
  {
   "cell_type": "code",
   "execution_count": 77,
   "metadata": {},
   "outputs": [
    {
     "output_type": "execute_result",
     "data": {
      "text/plain": [
       "'Milan Pjevac'"
      ]
     },
     "metadata": {},
     "execution_count": 77
    }
   ],
   "source": [
    "name_dict['nm8479383']"
   ]
  },
  {
   "cell_type": "code",
   "execution_count": null,
   "metadata": {},
   "outputs": [],
   "source": [
    "newplc"
   ]
  },
  {
   "cell_type": "code",
   "execution_count": 64,
   "metadata": {},
   "outputs": [
    {
     "output_type": "execute_result",
     "data": {
      "text/plain": [
       "533', 'nm8479383', 'nm8481025', 'nm8481580', 'nm8482785', 'nm8484828', 'nm8485439', 'nm8485659', 'nm8485840', 'nm8485868', 'nm8486204', 'nm8486512', 'nm8486584', 'nm8487511', 'nm8487525', 'nm8487754', 'nm8487755', 'nm8488065', 'nm8489505', 'nm8489852', 'nm8490559', 'nm8490691', 'nm8490845', 'nm8491526', 'nm8492358', 'nm8492359', 'nm8492793', 'nm8493403', 'nm8493404', 'nm8494478', 'nm8495875', 'nm8496327', 'nm8497578', 'nm8498311', 'nm8498422', 'nm8498549', 'nm8498550', 'nm8499149', 'nm8499401', 'nm8499608', 'nm8499611', 'nm8500007', 'nm8500256', 'nm8501113', 'nm8501259', 'nm8501390', 'nm8501481', 'nm8502003', 'nm8502497', 'nm8502687', 'nm8503761', 'nm8506228', 'nm8508865', 'nm8509686', 'nm8509699', 'nm8509816', 'nm8509866', 'nm8510398', 'nm8512008', 'nm8512340', 'nm8512752', 'nm8513328', 'nm8516614', 'nm8517617', 'nm8517647', 'nm8518307', 'nm8518416', 'nm8518732', 'nm8518892', 'nm8519373', 'nm8519721', 'nm8520623', 'nm8521559', 'nm8521908', 'nm8523788', 'nm8526044', 'nm8526763', 'nm8527300', 'nm8527329', 'nm8527652', 'nm8527736', 'nm8528202', 'nm8528262', 'nm8528873', 'nm8529515', 'nm8529761', 'nm8529771', 'nm8530480', 'nm8531118', 'nm8531205', 'nm8531721', 'nm8532399', 'nm8533810', 'nm8533819', 'nm8533823', 'nm8533905', 'nm8534337', 'nm8534701', 'nm8535877', 'nm8535963', 'nm8538195', 'nm8538277', 'nm8540120', 'nm8540364', 'nm8665729', 'nm8667268', 'nm8668201', 'nm8668464', 'nm8669071', 'nm8670822', 'nm8670999', 'nm8672024', 'nm8672235', 'nm8672327', 'nm8672343', 'nm8672411', 'nm8672782', 'nm8673415', 'nm8674798', 'nm8675000', 'nm8675590', 'nm8676909', 'nm8678733', 'nm8679182', 'nm8680077', 'nm8680411', 'nm8680559', 'nm8681678', 'nm8682698', 'nm8682716', 'nm8684457', 'nm8684746', 'nm8685556', 'nm8686441', 'nm8687250', 'nm8687328', 'nm8688251', 'nm8688685', 'nm8690025', 'nm8690411', 'nm8690419', 'nm8691349', 'nm8691390', 'nm8691393', 'nm8692632', 'nm8694282', 'nm8695038', 'nm8695146', 'nm8695783', 'nm8697802', 'nm8699640', 'nm8699913', 'nm8701696', 'nm8702707', 'nm8703294', 'nm8704001', 'nm8704323', 'nm8704413', 'nm8704613', 'nm8706046', 'nm8706351', 'nm8706766', 'nm8707936', 'nm8709389', 'nm8709413', 'nm8710517', 'nm8710767', 'nm8711194', 'nm8711667', 'nm8712981', 'nm8713208', 'nm8713958', 'nm8713992', 'nm8714403', 'nm8715765', 'nm8716861', 'nm8718581', 'nm8719684', 'nm8720525', 'nm8721473', 'nm8721600', 'nm8721675', 'nm8721813', 'nm8721940', 'nm8722777', 'nm8723620', 'nm8723778', 'nm8724341', 'nm8727820', 'nm8729185', 'nm8730086', 'nm8731277', 'nm8731357', 'nm8731480', 'nm8732408', 'nm8733120', 'nm8733586', 'nm8733940', 'nm8734686', 'nm8735029', 'nm8735152', 'nm8735808', 'nm8736183', 'nm8736574', 'nm8738690', 'nm8740354', 'nm8740731', 'nm8740801', 'nm8742242', 'nm8742365', 'nm8742541', 'nm8742937', 'nm8743823', 'nm8743915', 'nm8744533', 'nm8745377', 'nm8745489', 'nm8745490', 'nm8746944', 'nm8747049', 'nm8748152', 'nm8748255', 'nm8748486', 'nm8748783', 'nm8750263', 'nm8750477', 'nm8750929', 'nm8751229', 'nm8751338', 'nm8751407', 'nm8752390', 'nm8753452', 'nm8756949', 'nm8757094', 'nm8757892', 'nm8760107', 'nm8760195', 'nm8761172', 'nm8761357', 'nm8761643', 'nm8763698', 'nm8764168', 'nm8766021', 'nm8766839', 'nm8766930', 'nm8767229', 'nm8767336', 'nm8772126', 'nm8772260', 'nm8772752', 'nm8773456', 'nm8774542', 'nm8774832', 'nm8774972', 'nm8774981', 'nm8775008', 'nm8775555', 'nm8775681', 'nm8776439', 'nm8776780', 'nm8776834', 'nm8777244', 'nm8778068', 'nm8780612', 'nm8781936', 'nm8782238', 'nm8782634', 'nm8782727', 'nm8782910', 'nm8783680', 'nm8784135', 'nm8784378', 'nm8784588', 'nm8785177', 'nm8785206', 'nm8785233', 'nm8785926', 'nm8786239', 'nm8786276', 'nm8786312', 'nm8786495', 'nm8786774', 'nm8787516', 'nm8787705', 'nm8787869', 'nm8787911', 'nm8789344', 'nm8789351', 'nm8789453', 'nm8789565', 'nm8791827', 'nm8791923', 'nm8791949', 'nm8791958', 'nm8919461', 'nm8921074', 'nm8921907', 'nm8922067', 'nm8924817', 'nm8925837', 'nm8925879', 'nm8925889', 'nm8925938', 'nm8926085', 'nm8926326', 'nm8927197', 'nm8927555', 'nm8927604', 'nm8927813', 'nm8928030', 'nm8928796', 'nm8929578', 'nm8929870', 'nm8930026', 'nm8930037', 'nm8930462', 'nm8931367', 'nm8932153', 'nm8932229', 'nm8933075', 'nm8933407', 'nm8934688', 'nm8936797', 'nm8937090', 'nm8937326', 'nm8937439', 'nm8937940', 'nm8938071', 'nm8938569', 'nm8938726', 'nm8939203', 'nm8940850', 'nm8941611', 'nm8942372', 'nm8942817', 'nm8943299', 'nm8943517', 'nm8943634', 'nm8943938', 'nm8944138', 'nm8944228', 'nm8944312', 'nm8944971', 'nm8944976', 'nm8945521', 'nm8947338', 'nm8947378', 'nm8948457', 'nm8948504', 'nm8948722', 'nm8951248', 'nm8951989', 'nm8952540', 'nm8952709', 'nm8953986', 'nm8954005', 'nm8955113', 'nm8955121', 'nm8955419', 'nm8956191', 'nm8956349', 'nm8957619', 'nm8959440', 'nm8959458', 'nm8959634', 'nm8960277', 'nm8960502', 'nm8961436', 'nm8962159', 'nm8962181', 'nm8963004', 'nm8964986', 'nm8966451', 'nm8966503', 'nm8969271', 'nm8970224', 'nm8971057', 'nm8973383', 'nm8973428', 'nm8975055', 'nm8975368', 'nm8975759', 'nm8976014', 'nm8978395', 'nm8978787', 'nm8979017', 'nm8979279', 'nm8979420', 'nm8979846', 'nm8980912', 'nm8981343', 'nm8981542', 'nm8982073', 'nm8982082', 'nm8982446', 'nm8983481', 'nm8983593', 'nm8984871', 'nm8987325', 'nm8989795', 'nm8989825', 'nm8991431', 'nm8993846', 'nm8993984', 'nm8994110', 'nm8994464', 'nm8994807', 'nm8994810', 'nm8995893', 'nm8998579', 'nm8998602', 'nm8999813', 'nm9000466', 'nm9001396', 'nm9001633', 'nm9001791', 'nm9001935', 'nm9002165', 'nm9002511', 'nm9004358', 'nm9004377', 'nm9007719', 'nm9007922', 'nm9008202', 'nm9008276', 'nm9008706', 'nm9012888', 'nm9012985', 'nm9013178', 'nm9013545', 'nm9015372', 'nm9015399', 'nm9015668', 'nm9019375', 'nm9019497', 'nm9020386', 'nm9020395', 'nm9020455', 'nm9020660', 'nm9020912', 'nm9023090', 'nm9023527', 'nm9024129', 'nm9026598', 'nm9027335', 'nm9027927', 'nm9028360', 'nm9028562', 'nm9031236', 'nm9031279', 'nm9034427', 'nm9034796', 'nm9035492', 'nm9036851', 'nm9037490', 'nm9037826', 'nm9038251', 'nm9038313', 'nm9039153', 'nm9039908', 'nm9040418', 'nm9040674', 'nm9041327', 'nm9042499', 'nm9042888', 'nm9043094', 'nm9044038', 'nm9044257', 'nm9044527', 'nm9045639', 'nm9045873', 'nm9045899', 'nm9046539', 'nm9047569', 'nm9048263', 'nm9048869', 'nm9048891', 'nm9050201', 'nm9052234', 'nm9052986', 'nm9054871', 'nm9056512', 'nm9058100', 'nm9058517', 'nm9058573', 'nm9059900', 'nm9061361', 'nm9061881', 'nm9061886', 'nm9062078', 'nm9063691', 'nm9064035', 'nm9064304', 'nm9064399', 'nm9064414', 'nm9065095', 'nm9065454', 'nm9066022', 'nm9066973', 'nm9068622', 'nm9069399', 'nm9069802', 'nm9071103', 'nm9071751', 'nm9071887', 'nm9072035', 'nm9072811', 'nm9073856', 'nm9074058', 'nm9074071', 'nm9074109', 'nm9074698', 'nm9075400', 'nm9075878', 'nm9076789', 'nm9076827', 'nm9077551', 'nm9077897', 'nm9078816', 'nm9080521', 'nm9080833', 'nm9080886', 'nm9081855', 'nm9082170', 'nm9082347', 'nm9082560', 'nm9082900', 'nm9083165', 'nm9083346', 'nm9083359', 'nm9084240', 'nm9084519', 'nm9085155', 'nm9085399', 'nm9086269', 'nm9087965', 'nm9087992', 'nm9089024', 'nm9090161', 'nm9091039', 'nm9091255', 'nm9091305', 'nm9091553', 'nm9092118', 'nm9092909', 'nm9093329', 'nm9093444', 'nm9094393', 'nm9094459', 'nm9094689', 'nm9094880', 'nm9095358', 'nm9095499', 'nm9096777', 'nm9097216', 'nm9097643', 'nm9098232', 'nm9098734', 'nm9098962', 'nm9099589', 'nm9099591', 'nm9100403', 'nm9100473', 'nm9100591', 'nm9101186', 'nm9102661', 'nm9102998', 'nm9103002', 'nm9103620', 'nm9106748', 'nm9107378', 'nm9107499', 'nm9108303', 'nm9108327', 'nm9108424', 'nm9109079', 'nm9109093', 'nm9109517', 'nm9109547', 'nm9110225', 'nm9110563', 'nm9110602', 'nm9110604', 'nm9112363', 'nm9112364', 'nm9112512', 'nm9113920', 'nm9116802', 'nm9117099', 'nm9117417', 'nm9118540', 'nm9118686', 'nm9121603', 'nm9121731', 'nm9124511', 'nm9126030', 'nm9126336', 'nm9126714', 'nm9127162', 'nm9127692', 'nm9127954', 'nm9128460', 'nm9129241', 'nm9129543', 'nm9129660', 'nm9129774', 'nm9129997', 'nm9130557', 'nm9130711', 'nm9130963', 'nm9132019', 'nm9132662', 'nm9133112', 'nm9133172', 'nm9133198', 'nm9133559', 'nm9133882', 'nm9134003', 'nm9134459', 'nm9134942', 'nm9135234', 'nm9136377', 'nm9137050', 'nm9137432', 'nm9138028', 'nm9138226', 'nm9138312', 'nm9139831', 'nm9140785', 'nm9141506', 'nm9142833', 'nm9142925', 'nm9143437', 'nm9144362', 'nm9145300', 'nm9145322', 'nm9146428', 'nm9146701', 'nm9146704', 'nm9146886', 'nm9147081', 'nm9148253', 'nm9149758', 'nm9149847', 'nm9150430', 'nm9150669', 'nm9151026', 'nm9151449', 'nm9153790', 'nm9153988', 'nm9154263', 'nm9154332', 'nm9154639', 'nm9155734', 'nm9156346', 'nm9156733', 'nm9157053', 'nm9158068', 'nm9158437', 'nm9158817', 'nm9158918', 'nm9160861', 'nm9160928', 'nm9161001', 'nm9165384', 'nm9167725', 'nm9168374', 'nm9168854', 'nm9169348', 'nm9169981', 'nm9171838', 'nm9171839', 'nm9172110', 'nm9172134', 'nm9172852', 'nm9173006', 'nm9175228', 'nm9175499', 'nm9175523', 'nm9176688', 'nm9178131', 'nm9178501', 'nm9178866', 'nm9180450', 'nm9180724', 'nm9180806', 'nm9181035', 'nm9181814', 'nm9184071', 'nm9184327', 'nm9184329', 'nm9184684', 'nm9185251', 'nm9185429', 'nm9185582', 'nm9186074', 'nm9187412', 'nm9187512', 'nm9187516', 'nm9188369', 'nm9188738', 'nm9188890', 'nm9189209', 'nm9190102', 'nm9191426', 'nm9191581', 'nm9191782', 'nm9192864', 'nm9193017', 'nm9194139', 'nm9194511', 'nm9195066', 'nm9195486', 'nm9195789', 'nm9196252', 'nm9197022', 'nm9197814', 'nm9197875', 'nm9198801', 'nm9199065', 'nm9199528', 'nm9200002', 'nm9200591', 'nm9200941', 'nm9201916', 'nm9202109', 'nm9202129', 'nm9202150', 'nm9202413', 'nm9204313', 'nm9204452', 'nm9205710', 'nm9206094', 'nm9206211', 'nm9206355', 'nm9206780', 'nm9207969', 'nm9208745', 'nm9208935', 'nm9209672', 'nm9210170', 'nm9210845', 'nm9210890', 'nm9211188', 'nm9211518', 'nm9212214', 'nm9212903', 'nm9212905', 'nm9213219', 'nm9213684', 'nm9214701', 'nm9214913', 'nm9215186', 'nm9215920', 'nm9217422', 'nm9217848', 'nm9218028', 'nm9218896', 'nm9220392', 'nm9221082', 'nm9221317', 'nm9221377', 'nm9221580', 'nm9221871', 'nm9222801', 'nm9223355', 'nm9223794', 'nm9224440', 'nm9225422', 'nm9226408', 'nm9227373', 'nm9228405', 'nm9229290', 'nm9229291', 'nm9229576', 'nm9230221', 'nm9230416', 'nm9230720', 'nm9230783', 'nm9231066', 'nm9231907', 'nm9232339', 'nm9232354', 'nm9233295', 'nm9233589', 'nm9236674', 'nm9237076', 'nm9238902', 'nm9239851', 'nm9241025', 'nm9242077', 'nm9242122', 'nm9242152', 'nm9242153', 'nm9243852', 'nm9243875', 'nm9243938', 'nm9244863', 'nm9245585', 'nm9245989', 'nm9246411', 'nm9246659', 'nm9246843', 'nm9249133', 'nm9249188', 'nm9249517', 'nm9249801', 'nm9249814', 'nm9251626', 'nm9251840', 'nm9252248', 'nm9255161', 'nm9255413', 'nm9256296', 'nm9257588', 'nm9258250', 'nm9258628', 'nm9258915', 'nm9259379', 'nm9260903', 'nm9261576', 'nm9262092', 'nm9262615', 'nm9262724', 'nm9263049', 'nm9264330', 'nm9266349', 'nm9266606', 'nm9268257', 'nm9269050', 'nm9269326', 'nm9269367', 'nm9269642', 'nm9270659', 'nm9271906', 'nm9272116', 'nm9272153', 'nm9272172', 'nm9273323', 'nm9274066', 'nm9274206', 'nm9274527', 'nm9275017', 'nm9277502', 'nm9277944', 'nm9278373', 'nm9279915', 'nm9280159', 'nm9280771', 'nm9281203', 'nm9281267', 'nm9282159', 'nm9282357', 'nm9282517', 'nm9282612', 'nm9282771', 'nm9285242', 'nm9287297', 'nm9287532', 'nm9287788', 'nm9288159', 'nm9288590', 'nm9289117', 'nm9289192', 'nm9291017', 'nm9291956', 'nm9292155', 'nm9292310', 'nm9293129', 'nm9293491', 'nm9294191', 'nm9294581', 'nm9294782', 'nm9295243', 'nm9297520', 'nm9297797', 'nm9298347', 'nm9298478', 'nm9299175', 'nm9300186', 'nm9300276', 'nm9301113', 'nm9301275', 'nm9301328', 'nm9301518', 'nm9301970', 'nm9302054', 'nm9303192', 'nm9303329', 'nm9304735', 'nm9304739', 'nm9305035', 'nm9306196', 'nm9306232', 'nm9306254', 'nm9306338', 'nm9306900', 'nm9307231', 'nm9308872', 'nm9309635', 'nm9309906', 'nm9310910', 'nm9313651', 'nm9314249', 'nm9315304', 'nm9316789', 'nm9316954', 'nm9317032', 'nm9317033', 'nm9317346', 'nm9317556', 'nm9319644', 'nm9319975', 'nm9320685', 'nm9322451', 'nm9323676', 'nm9324273', 'nm9325360', 'nm9326030', 'nm9326258', 'nm9327630', 'nm9329015', 'nm9329454', 'nm9329652', 'nm9331167', 'nm9332127', 'nm9332198', 'nm9333150', 'nm9334035', 'nm9334068', 'nm9334954', 'nm9334973', 'nm9335032', 'nm9335961', 'nm9337404', 'nm9337465', 'nm9337493', 'nm9337713', 'nm9337981', 'nm9338329', 'nm9339265', 'nm9340085', 'nm9340268', 'nm9341098', 'nm9342836', 'nm9343808', 'nm9344413', 'nm9345841', 'nm9346024', 'nm9346616', 'nm9347841', 'nm9349019', 'nm9349742', 'nm9350484', 'nm9350574', 'nm9350576', 'nm9351025', 'nm9353272', 'nm9353361', 'nm9353677', 'nm9353782', 'nm9354265', 'nm9355110', 'nm9355454', 'nm9355542', 'nm9355543', 'nm9356073', 'nm9356134', 'nm9356135', 'nm9356508', 'nm9356509', 'nm9356759', 'nm9357712', 'nm9357779', 'nm9358357', 'nm9358627', 'nm9358791', 'nm9358889', 'nm9359129', 'nm9360579', 'nm9361230', 'nm9364184', 'nm9364333', 'nm9364455', 'nm9364937', 'nm9365172', 'nm9365295', 'nm9366560', 'nm9366770', 'nm9367042', 'nm9367063', 'nm9367229', 'nm9368261', 'nm9368583', 'nm9368685', 'nm9369972', 'nm9370694', 'nm9371332', 'nm9371534', 'nm9371849', 'nm9373030', 'nm9373335', 'nm9373571', 'nm9373995', 'nm9375014', 'nm9375066', 'nm9376580', 'nm9377625', 'nm9377726', 'nm9377764', 'nm9377778', 'nm9378566', 'nm9379601', 'nm9382005', 'nm9382359', 'nm9382366', 'nm9382713', 'nm9384694', 'nm9386626', 'nm9387667', 'nm9388413', 'nm9389486', 'nm9389984', 'nm9390585', 'nm9391035', 'nm9391211', 'nm9391383', 'nm9391421', 'nm9391429', 'nm9391685', 'nm9391979', 'nm9392355', 'nm9395097', 'nm9395158', 'nm9395570', 'nm9396945', 'nm9397906', 'nm9398864', 'nm9400095', 'nm9400099', 'nm9401408', 'nm9401502', 'nm9401545', 'nm9401743', 'nm9402010', 'nm9402590', 'nm9403155', 'nm9403220', 'nm9403849', 'nm9405727', 'nm9406400', 'nm9406552', 'nm9408984', 'nm9409065', 'nm9410880', 'nm9411238', 'nm9412429', 'nm9412848', 'nm9412854', 'nm9412983', 'nm9414187', 'nm9414190', 'nm9414966', 'nm9415134', 'nm9416024', 'nm9417945', 'nm9419481', 'nm9420277', 'nm9420408', 'nm9421101', 'nm9422419', 'nm9422590', 'nm9423280', 'nm9424499', 'nm9424701', 'nm9424702', 'nm9425588', 'nm9425591', 'nm9426642', 'nm9426927', 'nm9428033', 'nm9430811', 'nm9431515', 'nm9432552', 'nm9434774', 'nm9435534', 'nm9435881', 'nm9438144', 'nm9438171', 'nm9438550', 'nm9438748', 'nm9442483', 'nm9443116', 'nm9443411', 'nm9444004', 'nm9444679', 'nm9444905', 'nm9445524', 'nm9446114', 'nm9446359', 'nm9447221', 'nm9447266', 'nm9447738', 'nm9448816', 'nm9448819', 'nm9449730', 'nm9449891', 'nm9449897', 'nm9450371', 'nm9450747', 'nm9450886', 'nm9451695', 'nm9452811', 'nm9453012', 'nm9453918', 'nm9454214', 'nm9454970', 'nm9455561', 'nm9455716', 'nm9456090', 'nm9456214', 'nm9456294', 'nm9457273', 'nm9458022', 'nm9459234', 'nm9459365', 'nm9459736', 'nm9459965', 'nm9460096', 'nm9461051', 'nm9462339', 'nm9462655', 'nm9463503', 'nm9464736', 'nm9464856', 'nm9465273', 'nm9465631', 'nm9465842', 'nm9466077', 'nm9466430', 'nm9466885', 'nm9466959', 'nm9466999', 'nm9467676', 'nm9467868', 'nm9469158', 'nm9470172', 'nm9472215', 'nm9473916', 'nm9473967', 'nm9474257', 'nm9475612', 'nm9475692', 'nm9476261', 'nm9476262', 'nm9477623', 'nm9477629', 'nm9480127', 'nm9480485', 'nm9480935', 'nm9481321', 'nm9481382', 'nm9481886', 'nm9481902', 'nm9482383', 'nm9482929', 'nm9484799', 'nm9485413', 'nm9485455', 'nm9485767', 'nm9486441', 'nm9486609', 'nm9488683', 'nm9489379', 'nm9489448', 'nm9489562', 'nm9489746', 'nm9492263', 'nm9493181', 'nm9493539', 'nm9493944', 'nm9494414', 'nm9495084', 'nm9495151', 'nm9495701', 'nm9496828', 'nm9500614', 'nm9501308', 'nm9501828', 'nm9502384', 'nm9502530', 'nm9502532', 'nm9502538', 'nm9502778', 'nm9503004', 'nm9503335', 'nm9503394', 'nm9504248', 'nm9504604', 'nm9505360', 'nm9505601', 'nm9507490', 'nm9509479', 'nm9510070', 'nm9510580', 'nm9510585', 'nm9513004', 'nm9513084', 'nm9513813', 'nm9514342', 'nm9514796', 'nm9515793', 'nm9515888', 'nm9516167', 'nm9516175', 'nm9517471', 'nm9517828', 'nm9520864', 'nm9521283', 'nm9521339', 'nm9522095', 'nm9523258', 'nm9524324', 'nm9526044', 'nm9526517', 'nm9527489', 'nm9528055', 'nm9529060', 'nm9529323', 'nm9530462', 'nm9530491', 'nm9530517', 'nm9531000', 'nm9531885', 'nm9533581', 'nm9534631', 'nm9535111', 'nm9535765', 'nm9536351', 'nm9536882', 'nm9537101', 'nm9537106', 'nm9537165', 'nm9538680', 'nm9539277', 'nm9539482', 'nm9539554', 'nm9540663', 'nm9541149', 'nm9541594', 'nm9541629', 'nm9541769', 'nm9541799', 'nm9542887', 'nm9543951', 'nm9544117', 'nm9544296', 'nm9544693', 'nm9544694', 'nm9545514', 'nm9545567', 'nm9545742', 'nm9545932', 'nm9546964', 'nm9547940', 'nm9548101', 'nm9548117', 'nm9549405', 'nm9549475', 'nm9549553', 'nm9549936', 'nm9550024', 'nm9552883', 'nm9553230', 'nm9553504', 'nm9553674', 'nm9553677', 'nm9675492', 'nm9678422', 'nm9678911', 'nm9680728', 'nm9681506', 'nm9681655', 'nm9682775', 'nm9682930', 'nm9683024', 'nm9683644', 'nm9683661', 'nm9684311', 'nm9684791', 'nm9684976', 'nm9685347', 'nm9685500', 'nm9686310', 'nm9686818', 'nm9687040', 'nm9687045', 'nm9687114', 'nm9687873', 'nm9689154', 'nm9690208', 'nm9690391', 'nm9690551', 'nm9690552', 'nm9691542', 'nm9693554', 'nm9693616', 'nm9695090', 'nm9695119', 'nm9695667', 'nm9695935', 'nm9695953', 'nm9696071', 'nm9696742', 'nm9697191', 'nm9697266', 'nm9699909', 'nm9700972', 'nm9701687', 'nm9701696', 'nm9702972', 'nm9704067', 'nm9705032', 'nm9705148', 'nm9705569', 'nm9706648', 'nm9708800', 'nm9710869', 'nm9713733', 'nm9714358', 'nm9714666', 'nm9714764', 'nm9715436', 'nm9715585', 'nm9715735', 'nm9715883', 'nm9716187', 'nm9717064', 'nm9717516', 'nm9717827', 'nm9718217', 'nm9718734', 'nm9718737', 'nm9719425', 'nm9719502', 'nm9720062', 'nm9722094', 'nm9722209', 'nm9722507', 'nm9722778', 'nm9724059', 'nm9724536', 'nm9725178', 'nm9725763', 'nm9727799', 'nm9730732', 'nm9731012', 'nm9731141', 'nm9732985', 'nm9733137', 'nm9733482', 'nm9734471', 'nm9734878', 'nm9734903', 'nm9737150', 'nm9738490', 'nm9739525', 'nm9741566', 'nm9742270', 'nm9743400', 'nm9743728', 'nm9743834', 'nm9743868', 'nm9744395', 'nm9744956', 'nm9745150', 'nm9745174', 'nm9746224', 'nm9747046', 'nm9747734', 'nm9748617', 'nm9751583', 'nm9752658', 'nm9753542', 'nm9753849', 'nm9754078', 'nm9755070', 'nm9755860', 'nm9758435', 'nm9759940', 'nm9759941', 'nm9760278', 'nm9760643', 'nm9760820', 'nm9760821', 'nm9761751', 'nm9763346', 'nm9764367', 'nm9765668', 'nm9765928', 'nm9767414', 'nm9768897', 'nm9769561', 'nm9771231', 'nm9773818', 'nm9775556', 'nm9775567', 'nm9776150', 'nm9776881', 'nm9778634', 'nm9779612', 'nm9780245', 'nm9780989', 'nm9781191', 'nm9781362', 'nm9782183', 'nm9783216', 'nm9783222', 'nm9783514', 'nm9783523', 'nm9784364', 'nm9785124', 'nm9785369', 'nm9785782', 'nm9785908', 'nm9786484', 'nm9788067', 'nm9789073', 'nm9790503', 'nm9791163', 'nm9909582', 'nm9909583', 'nm9909687', 'nm9910201', 'nm9910344', 'nm9913616', 'nm9914242', 'nm9914604', 'nm9918071', 'nm9919506', 'nm9920800', 'nm9921687', 'nm9921791', 'nm9922562', 'nm9922857', 'nm9924324', 'nm9925496', 'nm9926439', 'nm9927299', 'nm9927305', 'nm9927870', 'nm9928618', 'nm9928666', 'nm9928966', 'nm9929380', 'nm9931078', 'nm9934726', 'nm9934729', 'nm9935639', 'nm9935763', 'nm9935850', 'nm9936608', 'nm9937227', 'nm9937441', 'nm9937856', 'nm9939319', 'nm9940365', 'nm9941920', 'nm9941921', 'nm9942317', 'nm9942718', 'nm9942831', 'nm9943777', 'nm9944676', 'nm9945540', 'nm9946594', 'nm9947590', 'nm9948745', 'nm9949004', 'nm9949539', 'nm9951337', 'nm9951412', 'nm9951446', 'nm9951481', 'nm9951829', 'nm9952460', 'nm9953075', 'nm9953212', 'nm9953335', 'nm9955262', 'nm9955441', 'nm9956428', 'nm9956872', 'nm9958501', 'nm9959513', 'nm9959548', 'nm9959675', 'nm9960027', 'nm9961944', 'nm9963404', 'nm9963473', 'nm9964372', 'nm9964778', 'nm9964916', 'nm9965935', 'nm9966242', 'nm9967439', 'nm9969409', 'nm9969911', 'nm9969939', 'nm9971271', 'nm9971456', 'nm9975287', 'nm9976388', 'nm9976769', 'nm9977609', 'nm9978371', 'nm9979898', 'nm9980588', 'nm9980896', 'nm9981679', 'nm9981999', 'nm9983730', 'nm9983906', 'nm9985838', 'nm9985863', 'nm9986856', 'nm9988988', 'nm9989005', 'nm9989145', 'nm9989840', 'nm9989854', 'nm9990047', 'nm9990296', 'nm9990381', 'nm9990690', 'nm9991320', 'nm9991786', 'nm9993380'])"
      ]
     },
     "metadata": {},
     "execution_count": 64
    }
   ],
   "source": [
    "name_dict.keys()"
   ]
  },
  {
   "cell_type": "code",
   "execution_count": null,
   "metadata": {},
   "outputs": [],
   "source": []
  }
 ]
}