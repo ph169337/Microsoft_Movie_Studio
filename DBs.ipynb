{
 "metadata": {
  "language_info": {
   "codemirror_mode": {
    "name": "ipython",
    "version": 3
   },
   "file_extension": ".py",
   "mimetype": "text/x-python",
   "name": "python",
   "nbconvert_exporter": "python",
   "pygments_lexer": "ipython3",
   "version": "3.8.3-final"
  },
  "orig_nbformat": 2,
  "kernelspec": {
   "name": "Python 3.8.3 64-bit ('base': conda)",
   "display_name": "Python 3.8.3 64-bit ('base': conda)",
   "metadata": {
    "interpreter": {
     "hash": "8a4dba99b337f7b7c56f3257436139b377f4b22d5009ee8ecea169cfe4d2a37e"
    }
   }
  }
 },
 "nbformat": 4,
 "nbformat_minor": 2,
 "cells": [
  {
   "cell_type": "code",
   "execution_count": 9,
   "metadata": {},
   "outputs": [],
   "source": [
    "import pandas as pd"
   ]
  },
  {
   "cell_type": "code",
   "execution_count": 10,
   "metadata": {},
   "outputs": [],
   "source": [
    "mjgross = pd.read_csv('D:/Flatiron/Project/Zips/bom.movie_gross.csv/bom.movie_gross.csv')\n",
    "imdbname = pd.read_csv('D:/Flatiron/Project/Zips/imdb.name.basics.csv/name.basics.csv')\n",
    "imdbtitle = pd.read_csv('D:/Flatiron/Project/Zips/imdb.title.akas.csv/title.akas.csv')\n",
    "imdbtitle2 = pd.read_csv('D:/Flatiron/Project/Zips/imdb.title.basics.csv/title.basics.csv')\n",
    "imdbcrew = pd.read_csv('D:/Flatiron/Project/Zips/imdb.title.crew.csv/title.crew.csv')\n",
    "imdbprinc = pd.read_csv('D:/Flatiron/Project/Zips/imdb.title.principals.csv/title.principals.csv')\n",
    "imdbrate = pd.read_csv('D:/Flatiron/Project/Zips/imdb.title.ratings.csv/title.ratings.csv')\n",
    "rtinfo = pd.read_csv('D:/Flatiron/Project/Zips/rt.movie_info.tsv/rt.movie_info.tsv', delimiter='\\t')\n",
    "rtreviews = pd.read_csv('D:/Flatiron/Project/Zips/rt.reviews.tsv/rt.reviews.tsv', sep=None)\n",
    "tmdbmovies = pd.read_csv('D:/Flatiron/Project/Zips/tmdb.movies.csv/tmdb.movies.csv')\n",
    "tnbudgets = pd.read_csv('D:/Flatiron/Project/Zips/tn.movie_budgets.csv/tn.movie_budgets.csv')"
   ]
  },
  {
   "cell_type": "code",
   "execution_count": 11,
   "metadata": {},
   "outputs": [],
   "source": [
    "# joined imdbcrew and imdbtitle2\n",
    "imdbcrewtitle2 = imdbtitle2.join(imdbcrew.set_index('tconst'), on='tconst')"
   ]
  },
  {
   "cell_type": "code",
   "execution_count": 12,
   "metadata": {},
   "outputs": [],
   "source": [
    "imdbname.drop(['birth_year','death_year'], axis=1, inplace=True)\n",
    "imdbtitle.drop(['attributes','language'], axis=1, inplace=True)\n",
    "imdbprinc.drop('job', axis=1, inplace=True)\n",
    "rtinfo.drop(['synopsis','theater_date','dvd_date','studio','currency'], axis=1, inplace=True)"
   ]
  },
  {
   "cell_type": "code",
   "execution_count": 13,
   "metadata": {},
   "outputs": [
    {
     "output_type": "stream",
     "name": "stdout",
     "text": [
      "\n",
      " imdbname \n",
      "\n",
      "606648\n",
      "nconst                    0\n",
      "primary_name              0\n",
      "primary_profession    51340\n",
      "known_for_titles      30204\n",
      "dtype: int64\n",
      "\n",
      " imdbtitle \n",
      "\n",
      "331703\n",
      "title_id                  0\n",
      "ordering                  0\n",
      "title                     0\n",
      "region                53293\n",
      "types                163256\n",
      "is_original_title        25\n",
      "dtype: int64\n",
      "\n",
      " imdbcrewtitle2 \n",
      "\n",
      "146144\n",
      "tconst                 0\n",
      "primary_title          0\n",
      "original_title        21\n",
      "start_year             0\n",
      "runtime_minutes    31739\n",
      "genres              5408\n",
      "directors           5727\n",
      "writers            35883\n",
      "dtype: int64\n",
      "\n",
      " imdbprinc \n",
      "\n",
      "1028186\n",
      "tconst             0\n",
      "ordering           0\n",
      "nconst             0\n",
      "category           0\n",
      "characters    634826\n",
      "dtype: int64\n",
      "\n",
      " imdbrate \n",
      "\n",
      "73856\n",
      "tconst           0\n",
      "averagerating    0\n",
      "numvotes         0\n",
      "dtype: int64\n",
      "\n",
      " rtinfo \n",
      "\n",
      "1560\n",
      "id               0\n",
      "rating           3\n",
      "genre            8\n",
      "director       199\n",
      "writer         449\n",
      "box_office    1220\n",
      "runtime         30\n",
      "dtype: int64\n",
      "\n",
      " rtreviews \n",
      "\n",
      "54432\n",
      "id                0\n",
      "review         5563\n",
      "rating        13517\n",
      "fresh             0\n",
      "critic         2722\n",
      "top_critic        0\n",
      "publisher       309\n",
      "date              0\n",
      "dtype: int64\n",
      "\n",
      " tmdbmovies \n",
      "\n",
      "26517\n",
      "Unnamed: 0           0\n",
      "genre_ids            0\n",
      "id                   0\n",
      "original_language    0\n",
      "original_title       0\n",
      "popularity           0\n",
      "release_date         0\n",
      "title                0\n",
      "vote_average         0\n",
      "vote_count           0\n",
      "dtype: int64\n",
      "\n",
      " tnbudgets \n",
      "\n",
      "5782\n",
      "id                   0\n",
      "release_date         0\n",
      "movie                0\n",
      "production_budget    0\n",
      "domestic_gross       0\n",
      "worldwide_gross      0\n",
      "dtype: int64\n"
     ]
    }
   ],
   "source": [
    "print('\\n imdbname \\n'); print(len(imdbname)); print(imdbname.isna().sum())\n",
    "print('\\n imdbtitle \\n'); print(len(imdbtitle)); print(imdbtitle.isna().sum())\n",
    "print('\\n imdbcrewtitle2 \\n'); print(len(imdbcrewtitle2)); print(imdbcrewtitle2.isna().sum())\n",
    "print('\\n imdbprinc \\n'); print(len(imdbprinc)); print(imdbprinc.isna().sum())\n",
    "print('\\n imdbrate \\n'); print(len(imdbrate)); print(imdbrate.isna().sum())\n",
    "print('\\n rtinfo \\n'); print(len(rtinfo)); print(rtinfo.isna().sum())\n",
    "print('\\n rtreviews \\n'); print(len(rtreviews)); print(rtreviews.isna().sum())\n",
    "print('\\n tmdbmovies \\n'); print(len(tmdbmovies)); print(tmdbmovies.isna().sum())\n",
    "print('\\n tnbudgets \\n'); print(len(tnbudgets)); print(tnbudgets.isna().sum())"
   ]
  },
  {
   "cell_type": "code",
   "execution_count": null,
   "metadata": {},
   "outputs": [],
   "source": [
    "#in progress DON'T RUN\n",
    "def splitmult(df, column):\n",
    "    for i, item in enumerate(df[column]):\n",
    "        each = item.split(sep=',')\n",
    "        df.iloc[i][column] = each[0]\n",
    "        for e in each:\n",
    "            df.append()"
   ]
  },
  {
   "cell_type": "code",
   "execution_count": null,
   "metadata": {},
   "outputs": [],
   "source": []
  },
  {
   "cell_type": "code",
   "execution_count": null,
   "metadata": {},
   "outputs": [],
   "source": []
  }
 ]
}