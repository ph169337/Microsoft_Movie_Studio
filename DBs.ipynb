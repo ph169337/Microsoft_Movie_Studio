{
 "metadata": {
  "language_info": {
   "codemirror_mode": {
    "name": "ipython",
    "version": 3
   },
   "file_extension": ".py",
   "mimetype": "text/x-python",
   "name": "python",
   "nbconvert_exporter": "python",
   "pygments_lexer": "ipython3",
   "version": "3.8.3-final"
  },
  "orig_nbformat": 2,
  "kernelspec": {
   "name": "Python 3.8.3 64-bit ('base': conda)",
   "display_name": "Python 3.8.3 64-bit ('base': conda)",
   "metadata": {
    "interpreter": {
     "hash": "8a4dba99b337f7b7c56f3257436139b377f4b22d5009ee8ecea169cfe4d2a37e"
    }
   }
  }
 },
 "nbformat": 4,
 "nbformat_minor": 2,
 "cells": [
  {
   "cell_type": "code",
   "execution_count": 1,
   "metadata": {},
   "outputs": [],
   "source": [
    "import pandas as pd"
   ]
  },
  {
   "cell_type": "code",
   "execution_count": 61,
   "metadata": {},
   "outputs": [],
   "source": [
    "mjgross = pd.read_csv('D:/Flatiron/Project/Zips/bom.movie_gross.csv/bom.movie_gross.csv')\n",
    "imdbname = pd.read_csv('D:/Flatiron/Project/Zips/imdb.name.basics.csv/name.basics.csv')\n",
    "imdbtitle = pd.read_csv('D:/Flatiron/Project/Zips/imdb.title.akas.csv/title.akas.csv')\n",
    "imdbtitle2 = pd.read_csv('D:/Flatiron/Project/Zips/imdb.title.basics.csv/title.basics.csv')\n",
    "imdbcrew = pd.read_csv('D:/Flatiron/Project/Zips/imdb.title.crew.csv/title.crew.csv')\n",
    "imdbprinc = pd.read_csv('D:/Flatiron/Project/Zips/imdb.title.principals.csv/title.principals.csv')\n",
    "imdbrate = pd.read_csv('D:/Flatiron/Project/Zips/imdb.title.ratings.csv/title.ratings.csv')\n",
    "rtinfo = pd.read_csv('D:/Flatiron/Project/Zips/rt.movie_info.tsv/rt.movie_info.tsv', delimiter='\\t')\n",
    "rtreviews = pd.read_csv('D:/Flatiron/Project/Zips/rt.reviews.tsv/rt.reviews.tsv', sep=None)\n",
    "tmdbmovies = pd.read_csv('D:/Flatiron/Project/Zips/tmdb.movies.csv/tmdb.movies.csv')\n",
    "tnbudgets = pd.read_csv('D:/Flatiron/Project/Zips/tn.movie_budgets.csv/tn.movie_budgets.csv')"
   ]
  },
  {
   "cell_type": "code",
   "execution_count": 44,
   "metadata": {},
   "outputs": [
    {
     "output_type": "execute_result",
     "data": {
      "text/plain": [
       "           tconst                                primary_title  \\\n",
       "0       tt0063540                                    Sunghursh   \n",
       "1       tt0066787              One Day Before the Rainy Season   \n",
       "2       tt0069049                   The Other Side of the Wind   \n",
       "3       tt0069204                              Sabse Bada Sukh   \n",
       "4       tt0100275                     The Wandering Soap Opera   \n",
       "...           ...                                          ...   \n",
       "146139  tt9916538                          Kuambil Lagi Hatiku   \n",
       "146140  tt9916622  Rodolpho Teóphilo - O Legado de um Pioneiro   \n",
       "146141  tt9916706                              Dankyavar Danka   \n",
       "146142  tt9916730                                       6 Gunn   \n",
       "146143  tt9916754               Chico Albuquerque - Revelações   \n",
       "\n",
       "                                     original_title  start_year  \\\n",
       "0                                         Sunghursh        2013   \n",
       "1                                   Ashad Ka Ek Din        2019   \n",
       "2                        The Other Side of the Wind        2018   \n",
       "3                                   Sabse Bada Sukh        2018   \n",
       "4                             La Telenovela Errante        2017   \n",
       "...                                             ...         ...   \n",
       "146139                          Kuambil Lagi Hatiku        2019   \n",
       "146140  Rodolpho Teóphilo - O Legado de um Pioneiro        2015   \n",
       "146141                              Dankyavar Danka        2013   \n",
       "146142                                       6 Gunn        2017   \n",
       "146143               Chico Albuquerque - Revelações        2013   \n",
       "\n",
       "        runtime_minutes                genres            directors  \\\n",
       "0                 175.0    Action,Crime,Drama            nm0712540   \n",
       "1                 114.0       Biography,Drama            nm0002411   \n",
       "2                 122.0                 Drama            nm0000080   \n",
       "3                   NaN          Comedy,Drama            nm0611531   \n",
       "4                  80.0  Comedy,Drama,Fantasy  nm0765384,nm0749914   \n",
       "...                 ...                   ...                  ...   \n",
       "146139            123.0                 Drama            nm8185151   \n",
       "146140              NaN           Documentary  nm9272490,nm9272491   \n",
       "146141              NaN                Comedy            nm7764440   \n",
       "146142            116.0                   NaN           nm10538612   \n",
       "146143              NaN           Documentary  nm9272490,nm8349149   \n",
       "\n",
       "                                        writers  \n",
       "0       nm0023551,nm1194313,nm0347899,nm1391276  \n",
       "1                                           NaN  \n",
       "2                           nm0000080,nm0462648  \n",
       "3                                     nm0347899  \n",
       "4                           nm1360635,nm0749914  \n",
       "...                                         ...  \n",
       "146139            nm4843252,nm4900525,nm2679404  \n",
       "146140                      nm9272490,nm9272491  \n",
       "146141                                nm7933903  \n",
       "146142                               nm10538612  \n",
       "146143                      nm8349149,nm9272490  \n",
       "\n",
       "[146144 rows x 8 columns]"
      ],
      "text/html": "<div>\n<style scoped>\n    .dataframe tbody tr th:only-of-type {\n        vertical-align: middle;\n    }\n\n    .dataframe tbody tr th {\n        vertical-align: top;\n    }\n\n    .dataframe thead th {\n        text-align: right;\n    }\n</style>\n<table border=\"1\" class=\"dataframe\">\n  <thead>\n    <tr style=\"text-align: right;\">\n      <th></th>\n      <th>tconst</th>\n      <th>primary_title</th>\n      <th>original_title</th>\n      <th>start_year</th>\n      <th>runtime_minutes</th>\n      <th>genres</th>\n      <th>directors</th>\n      <th>writers</th>\n    </tr>\n  </thead>\n  <tbody>\n    <tr>\n      <th>0</th>\n      <td>tt0063540</td>\n      <td>Sunghursh</td>\n      <td>Sunghursh</td>\n      <td>2013</td>\n      <td>175.0</td>\n      <td>Action,Crime,Drama</td>\n      <td>nm0712540</td>\n      <td>nm0023551,nm1194313,nm0347899,nm1391276</td>\n    </tr>\n    <tr>\n      <th>1</th>\n      <td>tt0066787</td>\n      <td>One Day Before the Rainy Season</td>\n      <td>Ashad Ka Ek Din</td>\n      <td>2019</td>\n      <td>114.0</td>\n      <td>Biography,Drama</td>\n      <td>nm0002411</td>\n      <td>NaN</td>\n    </tr>\n    <tr>\n      <th>2</th>\n      <td>tt0069049</td>\n      <td>The Other Side of the Wind</td>\n      <td>The Other Side of the Wind</td>\n      <td>2018</td>\n      <td>122.0</td>\n      <td>Drama</td>\n      <td>nm0000080</td>\n      <td>nm0000080,nm0462648</td>\n    </tr>\n    <tr>\n      <th>3</th>\n      <td>tt0069204</td>\n      <td>Sabse Bada Sukh</td>\n      <td>Sabse Bada Sukh</td>\n      <td>2018</td>\n      <td>NaN</td>\n      <td>Comedy,Drama</td>\n      <td>nm0611531</td>\n      <td>nm0347899</td>\n    </tr>\n    <tr>\n      <th>4</th>\n      <td>tt0100275</td>\n      <td>The Wandering Soap Opera</td>\n      <td>La Telenovela Errante</td>\n      <td>2017</td>\n      <td>80.0</td>\n      <td>Comedy,Drama,Fantasy</td>\n      <td>nm0765384,nm0749914</td>\n      <td>nm1360635,nm0749914</td>\n    </tr>\n    <tr>\n      <th>...</th>\n      <td>...</td>\n      <td>...</td>\n      <td>...</td>\n      <td>...</td>\n      <td>...</td>\n      <td>...</td>\n      <td>...</td>\n      <td>...</td>\n    </tr>\n    <tr>\n      <th>146139</th>\n      <td>tt9916538</td>\n      <td>Kuambil Lagi Hatiku</td>\n      <td>Kuambil Lagi Hatiku</td>\n      <td>2019</td>\n      <td>123.0</td>\n      <td>Drama</td>\n      <td>nm8185151</td>\n      <td>nm4843252,nm4900525,nm2679404</td>\n    </tr>\n    <tr>\n      <th>146140</th>\n      <td>tt9916622</td>\n      <td>Rodolpho Teóphilo - O Legado de um Pioneiro</td>\n      <td>Rodolpho Teóphilo - O Legado de um Pioneiro</td>\n      <td>2015</td>\n      <td>NaN</td>\n      <td>Documentary</td>\n      <td>nm9272490,nm9272491</td>\n      <td>nm9272490,nm9272491</td>\n    </tr>\n    <tr>\n      <th>146141</th>\n      <td>tt9916706</td>\n      <td>Dankyavar Danka</td>\n      <td>Dankyavar Danka</td>\n      <td>2013</td>\n      <td>NaN</td>\n      <td>Comedy</td>\n      <td>nm7764440</td>\n      <td>nm7933903</td>\n    </tr>\n    <tr>\n      <th>146142</th>\n      <td>tt9916730</td>\n      <td>6 Gunn</td>\n      <td>6 Gunn</td>\n      <td>2017</td>\n      <td>116.0</td>\n      <td>NaN</td>\n      <td>nm10538612</td>\n      <td>nm10538612</td>\n    </tr>\n    <tr>\n      <th>146143</th>\n      <td>tt9916754</td>\n      <td>Chico Albuquerque - Revelações</td>\n      <td>Chico Albuquerque - Revelações</td>\n      <td>2013</td>\n      <td>NaN</td>\n      <td>Documentary</td>\n      <td>nm9272490,nm8349149</td>\n      <td>nm8349149,nm9272490</td>\n    </tr>\n  </tbody>\n</table>\n<p>146144 rows × 8 columns</p>\n</div>"
     },
     "metadata": {},
     "execution_count": 44
    }
   ],
   "source": [
    "# joined imdbcrew and imdbtitle2\n",
    "imdbcrewtitle2 = imdbtitle2.join(imdbcrew.set_index('tconst'), on='tconst')\n",
    "imdbcrewtitle2"
   ]
  },
  {
   "cell_type": "code",
   "execution_count": null,
   "metadata": {},
   "outputs": [],
   "source": [
    "# joined imdbtitle2 and imdbcrew as imdbtitlecrew2\n",
    "imdbcrewtitle2 = imdbtitle2.join(imdbcrew.set_index('tconst'), on='tconst')"
   ]
  },
  {
   "cell_type": "code",
   "execution_count": 63,
   "metadata": {},
   "outputs": [
    {
     "output_type": "stream",
     "name": "stdout",
     "text": [
      "\n imdbprinc \n\n1028186\ntconst             0\nordering           0\nnconst             0\ncategory           0\ncharacters    634826\ndtype: int64\n"
     ]
    }
   ],
   "source": [
    "print('\\n imdbprinc \\n'); print(len(imdbprinc)); print(imdbprinc.isna().sum())"
   ]
  },
  {
   "cell_type": "code",
   "execution_count": 67,
   "metadata": {},
   "outputs": [
    {
     "output_type": "error",
     "ename": "SyntaxError",
     "evalue": "invalid syntax (<ipython-input-67-87f55864489b>, line 9)",
     "traceback": [
      "\u001b[1;36m  File \u001b[1;32m\"<ipython-input-67-87f55864489b>\"\u001b[1;36m, line \u001b[1;32m9\u001b[0m\n\u001b[1;33m    print('\\n tmdbmovies \\n'); print(len(tmdbmovies)); print(tmdbmovies.isna().s# um())\u001b[0m\n\u001b[1;37m                             ^\u001b[0m\n\u001b[1;31mSyntaxError\u001b[0m\u001b[1;31m:\u001b[0m invalid syntax\n"
     ]
    }
   ],
   "source": [
    "# print('\\n imdbname \\n'); print(len(imdbname)); print(imdbname.isna().sum())\n",
    "# print('\\n imdbtitle \\n'); print(len(imdbtitle)); print(imdbtitle.isna().sum())\n",
    "# print('\\n imdbcrewtitle2c \\n'\n",
    "#  print(lenimdbcrewtitle2nc\n",
    "# ; prinimdbcrewtitle2inc.isna().sum(# ))\n",
    "print('\\n imdbrate \\n'); print(len(imdbrate)); print(imdbrate.isna().sum())\n",
    "# print('\\n rtinfo \\n'); print(len(rtinfo)); print(rtinfo.isna().sum())\n",
    "print(# '\\n rtreviews \\n'); print(len(rtreviews)); print(rtreviews.isna().sum(# ))\n",
    "print('\\n tmdbmovies \\n'); print(len(tmdbmovies)); print(tmdbmovies.isna().s# um())\n",
    "print('\\n tnbudgets \\n'); print(len(tnbudgets)); print(tnbudgets.isna().sum(# ))"
   ]
  },
  {
   "cell_type": "code",
   "execution_count": 62,
   "metadata": {},
   "outputs": [],
   "source": [
    "imdbname.drop(['birth_year','death_year'], axis=1, inplace=True)\n",
    "imdbtitle.drop(['attributes','language'], axis=1, inplace=True)\n",
    "imdbprinc.drop('job', axis=1, inplace=True)\n",
    "rtinfo.drop(['studio','currency'], axis=1, inplace=True)"
   ]
  },
  {
   "cell_type": "code",
   "execution_count": 7,
   "metadata": {},
   "outputs": [],
   "source": []
  },
  {
   "cell_type": "code",
   "execution_count": null,
   "metadata": {},
   "outputs": [],
   "source": [
    "imdbcrewtitle2 = imdbtitle2.join(imdbcrew.set_index('tconst'), on='tconst')\n",
    "imdbcrewtitle2"
   ]
  },
  {
   "cell_type": "code",
   "execution_count": 8,
   "metadata": {},
   "outputs": [
    {
     "output_type": "stream",
     "name": "stdout",
     "text": [
      "\n",
      " imdbname \n",
      "\n",
      "606648\n",
      "nconst                    0\n",
      "primary_name              0\n",
      "primary_profession    51340\n",
      "known_for_titles      30204\n",
      "dtype: int64\n",
      "\n",
      " imdbtitle \n",
      "\n",
      "331703\n",
      "title_id                  0\n",
      "ordering                  0\n",
      "title                     0\n",
      "region                53293\n",
      "types                163256\n",
      "is_original_title        25\n",
      "dtype: int64\n",
      "\n",
      " imdbtitle2 \n",
      "\n",
      "146144\n",
      "tconst                 0\n",
      "primary_title          0\n",
      "original_title        21\n",
      "start_year             0\n",
      "runtime_minutes    31739\n",
      "genres              5408\n",
      "dtype: int64\n",
      "\n",
      " imdbcrew \n",
      "\n",
      "146144\n",
      "tconst           0\n",
      "directors     5727\n",
      "writers      35883\n",
      "dtype: int64\n",
      "\n",
      " imdbprinc \n",
      "\n",
      "1028186\n",
      "tconst             0\n",
      "ordering           0\n",
      "nconst             0\n",
      "category           0\n",
      "characters    634826\n",
      "dtype: int64\n",
      "\n",
      " imdbrate \n",
      "\n",
      "73856\n",
      "tconst           0\n",
      "averagerating    0\n",
      "numvotes         0\n",
      "dtype: int64\n",
      "\n",
      " rtinfo \n",
      "\n",
      "1560\n",
      "id                 0\n",
      "synopsis          62\n",
      "rating             3\n",
      "genre              8\n",
      "director         199\n",
      "writer           449\n",
      "theater_date     359\n",
      "dvd_date         359\n",
      "box_office      1220\n",
      "runtime           30\n",
      "dtype: int64\n",
      "\n",
      " rtreviews \n",
      "\n",
      "54432\n",
      "id                0\n",
      "review         5563\n",
      "rating        13517\n",
      "fresh             0\n",
      "critic         2722\n",
      "top_critic        0\n",
      "publisher       309\n",
      "date              0\n",
      "dtype: int64\n",
      "\n",
      " tmdbmovies \n",
      "\n",
      "26517\n",
      "Unnamed: 0           0\n",
      "genre_ids            0\n",
      "id                   0\n",
      "original_language    0\n",
      "original_title       0\n",
      "popularity           0\n",
      "release_date         0\n",
      "title                0\n",
      "vote_average         0\n",
      "vote_count           0\n",
      "dtype: int64\n",
      "\n",
      " tnbudgets \n",
      "\n",
      "5782\n",
      "id                   0\n",
      "release_date         0\n",
      "movie                0\n",
      "production_budget    0\n",
      "domestic_gross       0\n",
      "worldwide_gross      0\n",
      "dtype: int64\n"
     ]
    }
   ],
   "source": [
    "print('\\n imdbname \\n'); print(len(imdbname)); print(imdbname.isna().sum())\n",
    "print('\\n imdbtitle \\n'); print(len(imdbtitle)); print(imdbtitle.isna().sum())\n",
    "print('\\n imdbtitle2 \\n'); print(len(imdbtitle2)); print(imdbtitle2.isna().sum())\n",
    "print('\\n imdbcrew \\n'); print(len(imdbcrew)); print(imdbcrew.isna().sum())\n",
    "print('\\n imdbprinc \\n'); print(len(imdbprinc)); print(imdbprinc.isna().sum())\n",
    "print('\\n imdbrate \\n'); print(len(imdbrate)); print(imdbrate.isna().sum())\n",
    "print('\\n rtinfo \\n'); print(len(rtinfo)); print(rtinfo.isna().sum())\n",
    "print('\\n rtreviews \\n'); print(len(rtreviews)); print(rtreviews.isna().sum())\n",
    "print('\\n tmdbmovies \\n'); print(len(tmdbmovies)); print(tmdbmovies.isna().sum())\n",
    "print('\\n tnbudgets \\n'); print(len(tnbudgets)); print(tnbudgets.isna().sum())"
   ]
  },
  {
   "cell_type": "code",
   "execution_count": null,
   "metadata": {},
   "outputs": [],
   "source": [
    "def splitmult(df, column):\n",
    "    for i, item in enumerate(df[column]):\n",
    "        each = item.split(sep=',')\n",
    "        df.iloc[i][column] = each[0]\n",
    "        for e in each:\n",
    "            df.append()"
   ]
  },
  {
   "cell_type": "code",
   "execution_count": null,
   "metadata": {},
   "outputs": [],
   "source": []
  },
  {
   "cell_type": "code",
   "execution_count": 14,
   "metadata": {},
   "outputs": [
    {
     "output_type": "execute_result",
     "data": {
      "text/plain": [
       "           nconst         primary_name  \\\n",
       "0       nm0061671    Mary Ellen Bauder   \n",
       "1       nm0061865         Joseph Bauer   \n",
       "2       nm0062070           Bruce Baum   \n",
       "3       nm0062195         Axel Baumann   \n",
       "4       nm0062798          Pete Baxter   \n",
       "...           ...                  ...   \n",
       "606643  nm9990381         Susan Grobes   \n",
       "606644  nm9990690          Joo Yeon So   \n",
       "606645  nm9991320       Madeline Smith   \n",
       "606646  nm9991786  Michelle Modigliani   \n",
       "606647  nm9993380       Pegasus Envoyé   \n",
       "\n",
       "                                      primary_profession  \\\n",
       "0              miscellaneous,production_manager,producer   \n",
       "1             composer,music_department,sound_department   \n",
       "2                             miscellaneous,actor,writer   \n",
       "3       camera_department,cinematographer,art_department   \n",
       "4       production_designer,art_department,set_decorator   \n",
       "...                                                  ...   \n",
       "606643                                           actress   \n",
       "606644                                           actress   \n",
       "606645                                           actress   \n",
       "606646                                          producer   \n",
       "606647                             director,actor,writer   \n",
       "\n",
       "                               known_for_titles  \n",
       "0       tt0837562,tt2398241,tt0844471,tt0118553  \n",
       "1       tt0896534,tt6791238,tt0287072,tt1682940  \n",
       "2       tt1470654,tt0363631,tt0104030,tt0102898  \n",
       "3       tt0114371,tt2004304,tt1618448,tt1224387  \n",
       "4       tt0452644,tt0452692,tt3458030,tt2178256  \n",
       "...                                         ...  \n",
       "606643                                      NaN  \n",
       "606644                      tt9090932,tt8737130  \n",
       "606645                      tt8734436,tt9615610  \n",
       "606646                                      NaN  \n",
       "606647                                tt8743182  \n",
       "\n",
       "[606648 rows x 4 columns]"
      ],
      "text/html": "<div>\n<style scoped>\n    .dataframe tbody tr th:only-of-type {\n        vertical-align: middle;\n    }\n\n    .dataframe tbody tr th {\n        vertical-align: top;\n    }\n\n    .dataframe thead th {\n        text-align: right;\n    }\n</style>\n<table border=\"1\" class=\"dataframe\">\n  <thead>\n    <tr style=\"text-align: right;\">\n      <th></th>\n      <th>nconst</th>\n      <th>primary_name</th>\n      <th>primary_profession</th>\n      <th>known_for_titles</th>\n    </tr>\n  </thead>\n  <tbody>\n    <tr>\n      <th>0</th>\n      <td>nm0061671</td>\n      <td>Mary Ellen Bauder</td>\n      <td>miscellaneous,production_manager,producer</td>\n      <td>tt0837562,tt2398241,tt0844471,tt0118553</td>\n    </tr>\n    <tr>\n      <th>1</th>\n      <td>nm0061865</td>\n      <td>Joseph Bauer</td>\n      <td>composer,music_department,sound_department</td>\n      <td>tt0896534,tt6791238,tt0287072,tt1682940</td>\n    </tr>\n    <tr>\n      <th>2</th>\n      <td>nm0062070</td>\n      <td>Bruce Baum</td>\n      <td>miscellaneous,actor,writer</td>\n      <td>tt1470654,tt0363631,tt0104030,tt0102898</td>\n    </tr>\n    <tr>\n      <th>3</th>\n      <td>nm0062195</td>\n      <td>Axel Baumann</td>\n      <td>camera_department,cinematographer,art_department</td>\n      <td>tt0114371,tt2004304,tt1618448,tt1224387</td>\n    </tr>\n    <tr>\n      <th>4</th>\n      <td>nm0062798</td>\n      <td>Pete Baxter</td>\n      <td>production_designer,art_department,set_decorator</td>\n      <td>tt0452644,tt0452692,tt3458030,tt2178256</td>\n    </tr>\n    <tr>\n      <th>...</th>\n      <td>...</td>\n      <td>...</td>\n      <td>...</td>\n      <td>...</td>\n    </tr>\n    <tr>\n      <th>606643</th>\n      <td>nm9990381</td>\n      <td>Susan Grobes</td>\n      <td>actress</td>\n      <td>NaN</td>\n    </tr>\n    <tr>\n      <th>606644</th>\n      <td>nm9990690</td>\n      <td>Joo Yeon So</td>\n      <td>actress</td>\n      <td>tt9090932,tt8737130</td>\n    </tr>\n    <tr>\n      <th>606645</th>\n      <td>nm9991320</td>\n      <td>Madeline Smith</td>\n      <td>actress</td>\n      <td>tt8734436,tt9615610</td>\n    </tr>\n    <tr>\n      <th>606646</th>\n      <td>nm9991786</td>\n      <td>Michelle Modigliani</td>\n      <td>producer</td>\n      <td>NaN</td>\n    </tr>\n    <tr>\n      <th>606647</th>\n      <td>nm9993380</td>\n      <td>Pegasus Envoyé</td>\n      <td>director,actor,writer</td>\n      <td>tt8743182</td>\n    </tr>\n  </tbody>\n</table>\n<p>606648 rows × 4 columns</p>\n</div>"
     },
     "metadata": {},
     "execution_count": 14
    }
   ],
   "source": [
    "imdbname"
   ]
  },
  {
   "cell_type": "code",
   "execution_count": null,
   "metadata": {},
   "outputs": [],
   "source": []
  },
  {
   "cell_type": "code",
   "execution_count": 27,
   "metadata": {},
   "outputs": [
    {
     "output_type": "execute_result",
     "data": {
      "text/plain": [
       "           tconst                                primary_title  \\\n",
       "0       tt0063540                                    Sunghursh   \n",
       "1       tt0066787              One Day Before the Rainy Season   \n",
       "2       tt0069049                   The Other Side of the Wind   \n",
       "3       tt0069204                              Sabse Bada Sukh   \n",
       "4       tt0100275                     The Wandering Soap Opera   \n",
       "...           ...                                          ...   \n",
       "146139  tt9916538                          Kuambil Lagi Hatiku   \n",
       "146140  tt9916622  Rodolpho Teóphilo - O Legado de um Pioneiro   \n",
       "146141  tt9916706                              Dankyavar Danka   \n",
       "146142  tt9916730                                       6 Gunn   \n",
       "146143  tt9916754               Chico Albuquerque - Revelações   \n",
       "\n",
       "                                     original_title  start_year  \\\n",
       "0                                         Sunghursh        2013   \n",
       "1                                   Ashad Ka Ek Din        2019   \n",
       "2                        The Other Side of the Wind        2018   \n",
       "3                                   Sabse Bada Sukh        2018   \n",
       "4                             La Telenovela Errante        2017   \n",
       "...                                             ...         ...   \n",
       "146139                          Kuambil Lagi Hatiku        2019   \n",
       "146140  Rodolpho Teóphilo - O Legado de um Pioneiro        2015   \n",
       "146141                              Dankyavar Danka        2013   \n",
       "146142                                       6 Gunn        2017   \n",
       "146143               Chico Albuquerque - Revelações        2013   \n",
       "\n",
       "        runtime_minutes                genres            directors  \\\n",
       "0                 175.0    Action,Crime,Drama            nm0712540   \n",
       "1                 114.0       Biography,Drama            nm0002411   \n",
       "2                 122.0                 Drama            nm0000080   \n",
       "3                   NaN          Comedy,Drama            nm0611531   \n",
       "4                  80.0  Comedy,Drama,Fantasy  nm0765384,nm0749914   \n",
       "...                 ...                   ...                  ...   \n",
       "146139            123.0                 Drama            nm8185151   \n",
       "146140              NaN           Documentary  nm9272490,nm9272491   \n",
       "146141              NaN                Comedy            nm7764440   \n",
       "146142            116.0                   NaN           nm10538612   \n",
       "146143              NaN           Documentary  nm9272490,nm8349149   \n",
       "\n",
       "                                        writers  \n",
       "0       nm0023551,nm1194313,nm0347899,nm1391276  \n",
       "1                                           NaN  \n",
       "2                           nm0000080,nm0462648  \n",
       "3                                     nm0347899  \n",
       "4                           nm1360635,nm0749914  \n",
       "...                                         ...  \n",
       "146139            nm4843252,nm4900525,nm2679404  \n",
       "146140                      nm9272490,nm9272491  \n",
       "146141                                nm7933903  \n",
       "146142                               nm10538612  \n",
       "146143                      nm8349149,nm9272490  \n",
       "\n",
       "[146144 rows x 8 columns]"
      ],
      "text/html": "<div>\n<style scoped>\n    .dataframe tbody tr th:only-of-type {\n        vertical-align: middle;\n    }\n\n    .dataframe tbody tr th {\n        vertical-align: top;\n    }\n\n    .dataframe thead th {\n        text-align: right;\n    }\n</style>\n<table border=\"1\" class=\"dataframe\">\n  <thead>\n    <tr style=\"text-align: right;\">\n      <th></th>\n      <th>tconst</th>\n      <th>primary_title</th>\n      <th>original_title</th>\n      <th>start_year</th>\n      <th>runtime_minutes</th>\n      <th>genres</th>\n      <th>directors</th>\n      <th>writers</th>\n    </tr>\n  </thead>\n  <tbody>\n    <tr>\n      <th>0</th>\n      <td>tt0063540</td>\n      <td>Sunghursh</td>\n      <td>Sunghursh</td>\n      <td>2013</td>\n      <td>175.0</td>\n      <td>Action,Crime,Drama</td>\n      <td>nm0712540</td>\n      <td>nm0023551,nm1194313,nm0347899,nm1391276</td>\n    </tr>\n    <tr>\n      <th>1</th>\n      <td>tt0066787</td>\n      <td>One Day Before the Rainy Season</td>\n      <td>Ashad Ka Ek Din</td>\n      <td>2019</td>\n      <td>114.0</td>\n      <td>Biography,Drama</td>\n      <td>nm0002411</td>\n      <td>NaN</td>\n    </tr>\n    <tr>\n      <th>2</th>\n      <td>tt0069049</td>\n      <td>The Other Side of the Wind</td>\n      <td>The Other Side of the Wind</td>\n      <td>2018</td>\n      <td>122.0</td>\n      <td>Drama</td>\n      <td>nm0000080</td>\n      <td>nm0000080,nm0462648</td>\n    </tr>\n    <tr>\n      <th>3</th>\n      <td>tt0069204</td>\n      <td>Sabse Bada Sukh</td>\n      <td>Sabse Bada Sukh</td>\n      <td>2018</td>\n      <td>NaN</td>\n      <td>Comedy,Drama</td>\n      <td>nm0611531</td>\n      <td>nm0347899</td>\n    </tr>\n    <tr>\n      <th>4</th>\n      <td>tt0100275</td>\n      <td>The Wandering Soap Opera</td>\n      <td>La Telenovela Errante</td>\n      <td>2017</td>\n      <td>80.0</td>\n      <td>Comedy,Drama,Fantasy</td>\n      <td>nm0765384,nm0749914</td>\n      <td>nm1360635,nm0749914</td>\n    </tr>\n    <tr>\n      <th>...</th>\n      <td>...</td>\n      <td>...</td>\n      <td>...</td>\n      <td>...</td>\n      <td>...</td>\n      <td>...</td>\n      <td>...</td>\n      <td>...</td>\n    </tr>\n    <tr>\n      <th>146139</th>\n      <td>tt9916538</td>\n      <td>Kuambil Lagi Hatiku</td>\n      <td>Kuambil Lagi Hatiku</td>\n      <td>2019</td>\n      <td>123.0</td>\n      <td>Drama</td>\n      <td>nm8185151</td>\n      <td>nm4843252,nm4900525,nm2679404</td>\n    </tr>\n    <tr>\n      <th>146140</th>\n      <td>tt9916622</td>\n      <td>Rodolpho Teóphilo - O Legado de um Pioneiro</td>\n      <td>Rodolpho Teóphilo - O Legado de um Pioneiro</td>\n      <td>2015</td>\n      <td>NaN</td>\n      <td>Documentary</td>\n      <td>nm9272490,nm9272491</td>\n      <td>nm9272490,nm9272491</td>\n    </tr>\n    <tr>\n      <th>146141</th>\n      <td>tt9916706</td>\n      <td>Dankyavar Danka</td>\n      <td>Dankyavar Danka</td>\n      <td>2013</td>\n      <td>NaN</td>\n      <td>Comedy</td>\n      <td>nm7764440</td>\n      <td>nm7933903</td>\n    </tr>\n    <tr>\n      <th>146142</th>\n      <td>tt9916730</td>\n      <td>6 Gunn</td>\n      <td>6 Gunn</td>\n      <td>2017</td>\n      <td>116.0</td>\n      <td>NaN</td>\n      <td>nm10538612</td>\n      <td>nm10538612</td>\n    </tr>\n    <tr>\n      <th>146143</th>\n      <td>tt9916754</td>\n      <td>Chico Albuquerque - Revelações</td>\n      <td>Chico Albuquerque - Revelações</td>\n      <td>2013</td>\n      <td>NaN</td>\n      <td>Documentary</td>\n      <td>nm9272490,nm8349149</td>\n      <td>nm8349149,nm9272490</td>\n    </tr>\n  </tbody>\n</table>\n<p>146144 rows × 8 columns</p>\n</div>"
     },
     "metadata": {},
     "execution_count": 27
    }
   ],
   "source": [
    "imdbcrewtitle2 = imdbtitle2.join(imdbcrew.set_index('tconst'), on='tconst')\n",
    "imdbcrewtitle2"
   ]
  },
  {
   "cell_type": "code",
   "execution_count": 26,
   "metadata": {},
   "outputs": [
    {
     "output_type": "execute_result",
     "data": {
      "text/plain": [
       "nconst                                                 nm0061865\n",
       "primary_name                                        Joseph Bauer\n",
       "primary_profession    composer,music_department,sound_department\n",
       "known_for_titles         tt0896534,tt6791238,tt0287072,tt1682940\n",
       "Name: 1, dtype: object"
      ]
     },
     "metadata": {},
     "execution_count": 26
    }
   ],
   "source": [
    "imdbname.ilzoc[1]"
   ]
  },
  {
   "cell_type": "code",
   "execution_count": 19,
   "metadata": {},
   "outputs": [
    {
     "output_type": "error",
     "ename": "AttributeError",
     "evalue": "'list' object has no attribute 'split'",
     "traceback": [
      "\u001b[1;31m---------------------------------------------------------------------------\u001b[0m",
      "\u001b[1;31mAttributeError\u001b[0m                            Traceback (most recent call last)",
      "\u001b[1;32m<ipython-input-19-0ff3f159446d>\u001b[0m in \u001b[0;36m<module>\u001b[1;34m\u001b[0m\n\u001b[0;32m      1\u001b[0m \u001b[0meach\u001b[0m \u001b[1;33m=\u001b[0m \u001b[1;33m[\u001b[0m\u001b[1;34m'1,2,3'\u001b[0m\u001b[1;33m]\u001b[0m\u001b[1;33m\u001b[0m\u001b[1;33m\u001b[0m\u001b[0m\n\u001b[1;32m----> 2\u001b[1;33m \u001b[0mspl\u001b[0m \u001b[1;33m=\u001b[0m \u001b[0meach\u001b[0m\u001b[1;33m.\u001b[0m\u001b[0msplit\u001b[0m\u001b[1;33m(\u001b[0m\u001b[1;33m)\u001b[0m\u001b[1;33m\u001b[0m\u001b[1;33m\u001b[0m\u001b[0m\n\u001b[0m",
      "\u001b[1;31mAttributeError\u001b[0m: 'list' object has no attribute 'split'"
     ]
    }
   ],
   "source": [
    "each = ['1,2,3']\n",
    "spl = each.split()"
   ]
  },
  {
   "cell_type": "code",
   "execution_count": 22,
   "metadata": {},
   "outputs": [
    {
     "output_type": "execute_result",
     "data": {
      "text/plain": [
       "str"
      ]
     },
     "metadata": {},
     "execution_count": 22
    }
   ],
   "source": [
    "type(imdbcrew.iloc[4].loc['directors'])"
   ]
  },
  {
   "cell_type": "code",
   "execution_count": 24,
   "metadata": {},
   "outputs": [
    {
     "output_type": "execute_result",
     "data": {
      "text/plain": [
       "           tconst                                primary_title  \\\n",
       "0       tt0063540                                    Sunghursh   \n",
       "1       tt0066787              One Day Before the Rainy Season   \n",
       "2       tt0069049                   The Other Side of the Wind   \n",
       "3       tt0069204                              Sabse Bada Sukh   \n",
       "4       tt0100275                     The Wandering Soap Opera   \n",
       "...           ...                                          ...   \n",
       "146139  tt9916538                          Kuambil Lagi Hatiku   \n",
       "146140  tt9916622  Rodolpho Teóphilo - O Legado de um Pioneiro   \n",
       "146141  tt9916706                              Dankyavar Danka   \n",
       "146142  tt9916730                                       6 Gunn   \n",
       "146143  tt9916754               Chico Albuquerque - Revelações   \n",
       "\n",
       "                                     original_title  start_year  \\\n",
       "0                                         Sunghursh        2013   \n",
       "1                                   Ashad Ka Ek Din        2019   \n",
       "2                        The Other Side of the Wind        2018   \n",
       "3                                   Sabse Bada Sukh        2018   \n",
       "4                             La Telenovela Errante        2017   \n",
       "...                                             ...         ...   \n",
       "146139                          Kuambil Lagi Hatiku        2019   \n",
       "146140  Rodolpho Teóphilo - O Legado de um Pioneiro        2015   \n",
       "146141                              Dankyavar Danka        2013   \n",
       "146142                                       6 Gunn        2017   \n",
       "146143               Chico Albuquerque - Revelações        2013   \n",
       "\n",
       "        runtime_minutes                genres            directors  \\\n",
       "0                 175.0    Action,Crime,Drama            nm0712540   \n",
       "1                 114.0       Biography,Drama            nm0002411   \n",
       "2                 122.0                 Drama            nm0000080   \n",
       "3                   NaN          Comedy,Drama            nm0611531   \n",
       "4                  80.0  Comedy,Drama,Fantasy  nm0765384,nm0749914   \n",
       "...                 ...                   ...                  ...   \n",
       "146139            123.0                 Drama            nm8185151   \n",
       "146140              NaN           Documentary  nm9272490,nm9272491   \n",
       "146141              NaN                Comedy            nm7764440   \n",
       "146142            116.0                   NaN           nm10538612   \n",
       "146143              NaN           Documentary  nm9272490,nm8349149   \n",
       "\n",
       "                                        writers  \n",
       "0       nm0023551,nm1194313,nm0347899,nm1391276  \n",
       "1                                           NaN  \n",
       "2                           nm0000080,nm0462648  \n",
       "3                                     nm0347899  \n",
       "4                           nm1360635,nm0749914  \n",
       "...                                         ...  \n",
       "146139            nm4843252,nm4900525,nm2679404  \n",
       "146140                      nm9272490,nm9272491  \n",
       "146141                                nm7933903  \n",
       "146142                               nm10538612  \n",
       "146143                      nm8349149,nm9272490  \n",
       "\n",
       "[146144 rows x 8 columns]"
      ],
      "text/html": "<div>\n<style scoped>\n    .dataframe tbody tr th:only-of-type {\n        vertical-align: middle;\n    }\n\n    .dataframe tbody tr th {\n        vertical-align: top;\n    }\n\n    .dataframe thead th {\n        text-align: right;\n    }\n</style>\n<table border=\"1\" class=\"dataframe\">\n  <thead>\n    <tr style=\"text-align: right;\">\n      <th></th>\n      <th>tconst</th>\n      <th>primary_title</th>\n      <th>original_title</th>\n      <th>start_year</th>\n      <th>runtime_minutes</th>\n      <th>genres</th>\n      <th>directors</th>\n      <th>writers</th>\n    </tr>\n  </thead>\n  <tbody>\n    <tr>\n      <th>0</th>\n      <td>tt0063540</td>\n      <td>Sunghursh</td>\n      <td>Sunghursh</td>\n      <td>2013</td>\n      <td>175.0</td>\n      <td>Action,Crime,Drama</td>\n      <td>nm0712540</td>\n      <td>nm0023551,nm1194313,nm0347899,nm1391276</td>\n    </tr>\n    <tr>\n      <th>1</th>\n      <td>tt0066787</td>\n      <td>One Day Before the Rainy Season</td>\n      <td>Ashad Ka Ek Din</td>\n      <td>2019</td>\n      <td>114.0</td>\n      <td>Biography,Drama</td>\n      <td>nm0002411</td>\n      <td>NaN</td>\n    </tr>\n    <tr>\n      <th>2</th>\n      <td>tt0069049</td>\n      <td>The Other Side of the Wind</td>\n      <td>The Other Side of the Wind</td>\n      <td>2018</td>\n      <td>122.0</td>\n      <td>Drama</td>\n      <td>nm0000080</td>\n      <td>nm0000080,nm0462648</td>\n    </tr>\n    <tr>\n      <th>3</th>\n      <td>tt0069204</td>\n      <td>Sabse Bada Sukh</td>\n      <td>Sabse Bada Sukh</td>\n      <td>2018</td>\n      <td>NaN</td>\n      <td>Comedy,Drama</td>\n      <td>nm0611531</td>\n      <td>nm0347899</td>\n    </tr>\n    <tr>\n      <th>4</th>\n      <td>tt0100275</td>\n      <td>The Wandering Soap Opera</td>\n      <td>La Telenovela Errante</td>\n      <td>2017</td>\n      <td>80.0</td>\n      <td>Comedy,Drama,Fantasy</td>\n      <td>nm0765384,nm0749914</td>\n      <td>nm1360635,nm0749914</td>\n    </tr>\n    <tr>\n      <th>...</th>\n      <td>...</td>\n      <td>...</td>\n      <td>...</td>\n      <td>...</td>\n      <td>...</td>\n      <td>...</td>\n      <td>...</td>\n      <td>...</td>\n    </tr>\n    <tr>\n      <th>146139</th>\n      <td>tt9916538</td>\n      <td>Kuambil Lagi Hatiku</td>\n      <td>Kuambil Lagi Hatiku</td>\n      <td>2019</td>\n      <td>123.0</td>\n      <td>Drama</td>\n      <td>nm8185151</td>\n      <td>nm4843252,nm4900525,nm2679404</td>\n    </tr>\n    <tr>\n      <th>146140</th>\n      <td>tt9916622</td>\n      <td>Rodolpho Teóphilo - O Legado de um Pioneiro</td>\n      <td>Rodolpho Teóphilo - O Legado de um Pioneiro</td>\n      <td>2015</td>\n      <td>NaN</td>\n      <td>Documentary</td>\n      <td>nm9272490,nm9272491</td>\n      <td>nm9272490,nm9272491</td>\n    </tr>\n    <tr>\n      <th>146141</th>\n      <td>tt9916706</td>\n      <td>Dankyavar Danka</td>\n      <td>Dankyavar Danka</td>\n      <td>2013</td>\n      <td>NaN</td>\n      <td>Comedy</td>\n      <td>nm7764440</td>\n      <td>nm7933903</td>\n    </tr>\n    <tr>\n      <th>146142</th>\n      <td>tt9916730</td>\n      <td>6 Gunn</td>\n      <td>6 Gunn</td>\n      <td>2017</td>\n      <td>116.0</td>\n      <td>NaN</td>\n      <td>nm10538612</td>\n      <td>nm10538612</td>\n    </tr>\n    <tr>\n      <th>146143</th>\n      <td>tt9916754</td>\n      <td>Chico Albuquerque - Revelações</td>\n      <td>Chico Albuquerque - Revelações</td>\n      <td>2013</td>\n      <td>NaN</td>\n      <td>Documentary</td>\n      <td>nm9272490,nm8349149</td>\n      <td>nm8349149,nm9272490</td>\n    </tr>\n  </tbody>\n</table>\n<p>146144 rows × 8 columns</p>\n</div>"
     },
     "metadata": {},
     "execution_count": 24
    }
   ],
   "source": [
    "imdbcrewtitle2"
   ]
  },
  {
   "cell_type": "code",
   "execution_count": null,
   "metadata": {},
   "outputs": [],
   "source": []
  },
  {
   "cell_type": "code",
   "execution_count": 15,
   "metadata": {},
   "outputs": [
    {
     "output_type": "execute_result",
     "data": {
      "text/plain": [
       "           tconst                      directors              writers\n",
       "0       tt0285252                      nm0899854            nm0899854\n",
       "1       tt0438973                            NaN  nm0175726,nm1802864\n",
       "2       tt0462036                      nm1940585            nm1940585\n",
       "3       tt0835418                      nm0151540  nm0310087,nm0841532\n",
       "4       tt0878654  nm0089502,nm2291498,nm2292011            nm0284943\n",
       "...           ...                            ...                  ...\n",
       "146139  tt8999974                     nm10122357           nm10122357\n",
       "146140  tt9001390                      nm6711477            nm6711477\n",
       "146141  tt9001494          nm10123242,nm10123248                  NaN\n",
       "146142  tt9004986                      nm4993825            nm4993825\n",
       "146143  tt9010172                            NaN            nm8352242\n",
       "\n",
       "[146144 rows x 3 columns]"
      ],
      "text/html": "<div>\n<style scoped>\n    .dataframe tbody tr th:only-of-type {\n        vertical-align: middle;\n    }\n\n    .dataframe tbody tr th {\n        vertical-align: top;\n    }\n\n    .dataframe thead th {\n        text-align: right;\n    }\n</style>\n<table border=\"1\" class=\"dataframe\">\n  <thead>\n    <tr style=\"text-align: right;\">\n      <th></th>\n      <th>tconst</th>\n      <th>directors</th>\n      <th>writers</th>\n    </tr>\n  </thead>\n  <tbody>\n    <tr>\n      <th>0</th>\n      <td>tt0285252</td>\n      <td>nm0899854</td>\n      <td>nm0899854</td>\n    </tr>\n    <tr>\n      <th>1</th>\n      <td>tt0438973</td>\n      <td>NaN</td>\n      <td>nm0175726,nm1802864</td>\n    </tr>\n    <tr>\n      <th>2</th>\n      <td>tt0462036</td>\n      <td>nm1940585</td>\n      <td>nm1940585</td>\n    </tr>\n    <tr>\n      <th>3</th>\n      <td>tt0835418</td>\n      <td>nm0151540</td>\n      <td>nm0310087,nm0841532</td>\n    </tr>\n    <tr>\n      <th>4</th>\n      <td>tt0878654</td>\n      <td>nm0089502,nm2291498,nm2292011</td>\n      <td>nm0284943</td>\n    </tr>\n    <tr>\n      <th>...</th>\n      <td>...</td>\n      <td>...</td>\n      <td>...</td>\n    </tr>\n    <tr>\n      <th>146139</th>\n      <td>tt8999974</td>\n      <td>nm10122357</td>\n      <td>nm10122357</td>\n    </tr>\n    <tr>\n      <th>146140</th>\n      <td>tt9001390</td>\n      <td>nm6711477</td>\n      <td>nm6711477</td>\n    </tr>\n    <tr>\n      <th>146141</th>\n      <td>tt9001494</td>\n      <td>nm10123242,nm10123248</td>\n      <td>NaN</td>\n    </tr>\n    <tr>\n      <th>146142</th>\n      <td>tt9004986</td>\n      <td>nm4993825</td>\n      <td>nm4993825</td>\n    </tr>\n    <tr>\n      <th>146143</th>\n      <td>tt9010172</td>\n      <td>NaN</td>\n      <td>nm8352242</td>\n    </tr>\n  </tbody>\n</table>\n<p>146144 rows × 3 columns</p>\n</div>"
     },
     "metadata": {},
     "execution_count": 15
    }
   ],
   "source": [
    "imdbcrew"
   ]
  }
 ]
}